{
 "cells": [
  {
   "cell_type": "code",
   "execution_count": 1,
   "id": "914e109e",
   "metadata": {},
   "outputs": [
    {
     "name": "stderr",
     "output_type": "stream",
     "text": [
      "a:\\conda_envs\\cc3d_env\\lib\\site-packages\\cc3d\\core\\Configuration\\SettingUtils.py:248: UserWarning: Setting not set: PlayerSizes\n",
      "  warnings.warn(f'Setting not set: {_el.attrib[\"Name\"]}')\n",
      "a:\\conda_envs\\cc3d_env\\lib\\site-packages\\cc3d\\core\\Configuration\\SettingUtils.py:248: UserWarning: Setting not set: PlayerSizesFloating\n",
      "  warnings.warn(f'Setting not set: {_el.attrib[\"Name\"]}')\n",
      "a:\\conda_envs\\cc3d_env\\lib\\site-packages\\cc3d\\core\\Configuration\\SettingUtils.py:248: UserWarning: Setting not set: RecentSimulations\n",
      "  warnings.warn(f'Setting not set: {_el.attrib[\"Name\"]}')\n"
     ]
    },
    {
     "ename": "ModuleNotFoundError",
     "evalue": "No module named 'cc3d.core.SteppableBasePy'",
     "output_type": "error",
     "traceback": [
      "\u001b[1;31m---------------------------------------------------------------------------\u001b[0m",
      "\u001b[1;31mModuleNotFoundError\u001b[0m                       Traceback (most recent call last)",
      "Cell \u001b[1;32mIn[1], line 3\u001b[0m\n\u001b[0;32m      1\u001b[0m \u001b[38;5;66;03m# Import necessary libraries\u001b[39;00m\n\u001b[0;32m      2\u001b[0m \u001b[38;5;28;01mimport\u001b[39;00m\u001b[38;5;250m \u001b[39m\u001b[38;5;21;01mcc3d\u001b[39;00m\u001b[38;5;21;01m.\u001b[39;00m\u001b[38;5;21;01mCompuCellSetup\u001b[39;00m\u001b[38;5;250m \u001b[39m\u001b[38;5;28;01mas\u001b[39;00m\u001b[38;5;250m \u001b[39m\u001b[38;5;21;01mcc3d_setup\u001b[39;00m\n\u001b[1;32m----> 3\u001b[0m \u001b[38;5;28;01mfrom\u001b[39;00m\u001b[38;5;250m \u001b[39m\u001b[38;5;21;01mcc3d\u001b[39;00m\u001b[38;5;21;01m.\u001b[39;00m\u001b[38;5;21;01mcore\u001b[39;00m\u001b[38;5;21;01m.\u001b[39;00m\u001b[38;5;21;01mSteppableBasePy\u001b[39;00m\u001b[38;5;250m \u001b[39m\u001b[38;5;28;01mimport\u001b[39;00m SteppableBasePy\n\u001b[0;32m      4\u001b[0m \u001b[38;5;28;01mimport\u001b[39;00m\u001b[38;5;250m \u001b[39m\u001b[38;5;21;01mmatplotlib\u001b[39;00m\u001b[38;5;21;01m.\u001b[39;00m\u001b[38;5;21;01mpyplot\u001b[39;00m\u001b[38;5;250m \u001b[39m\u001b[38;5;28;01mas\u001b[39;00m\u001b[38;5;250m \u001b[39m\u001b[38;5;21;01mplt\u001b[39;00m\n\u001b[0;32m      6\u001b[0m \u001b[38;5;66;03m# Define a simple cell growth steppable\u001b[39;00m\n",
      "\u001b[1;31mModuleNotFoundError\u001b[0m: No module named 'cc3d.core.SteppableBasePy'"
     ]
    }
   ],
   "source": [
    "# Import necessary libraries\n",
    "import cc3d.CompuCellSetup as cc3d_setup\n",
    "from cc3d.core.SteppableBasePy import SteppableBasePy\n",
    "import matplotlib.pyplot as plt\n",
    "\n",
    "# Define a simple cell growth steppable\n",
    "class CellGrowthSteppable(SteppableBasePy):\n",
    "    def __init__(self, frequency=1):\n",
    "        super().__init__(frequency)\n",
    "\n",
    "    def start(self):\n",
    "        # Initialize cells\n",
    "        for i in range(10):\n",
    "            cell = self.new_cell(self.CONDENSING)\n",
    "            cell.targetVolume = 50\n",
    "            cell.lambdaVolume = 2.0\n",
    "\n",
    "    def step(self, mcs):\n",
    "        # Modify cell behavior over time\n",
    "        for cell in self.cell_list:\n",
    "            cell.targetVolume += 1  # Simulating growth\n",
    "\n",
    "# Initialize and run the simulation\n",
    "sim, simthread = cc3d_setup.getCoreSimulationObjects()\n",
    "steppableRegistry = cc3d_setup.getSteppableRegistry()\n",
    "steppableRegistry.registerSteppable(CellGrowthSteppable(frequency=1))\n",
    "\n",
    "cc3d_setup.run()\n"
   ]
  },
  {
   "cell_type": "code",
   "execution_count": 4,
   "id": "b31f29fc",
   "metadata": {},
   "outputs": [
    {
     "ename": "RuntimeError",
     "evalue": "No CC3D core specification available",
     "output_type": "error",
     "traceback": [
      "\u001b[1;31m---------------------------------------------------------------------------\u001b[0m",
      "\u001b[1;31mRuntimeError\u001b[0m                              Traceback (most recent call last)",
      "Cell \u001b[1;32mIn[4], line 13\u001b[0m\n\u001b[0;32m     11\u001b[0m \u001b[38;5;66;03m#Add Python steppables here \u001b[39;00m\n\u001b[0;32m     12\u001b[0m steppableRegistry\u001b[38;5;241m=\u001b[39mCompuCellSetup\u001b[38;5;241m.\u001b[39mgetSteppableRegistry() \n\u001b[1;32m---> 13\u001b[0m \u001b[43mCompuCellSetup\u001b[49m\u001b[38;5;241;43m.\u001b[39;49m\u001b[43mmainLoop\u001b[49m\u001b[43m(\u001b[49m\u001b[43msim\u001b[49m\u001b[43m,\u001b[49m\u001b[43msimthread\u001b[49m\u001b[43m,\u001b[49m\u001b[43msteppableRegistry\u001b[49m\u001b[43m)\u001b[49m\n",
      "File \u001b[1;32ma:\\conda_envs\\cc3d_env\\lib\\site-packages\\cc3d\\CompuCellSetup\\simulation_setup.py:54\u001b[0m, in \u001b[0;36mmainLoop\u001b[1;34m(*args, **kwds)\u001b[0m\n\u001b[0;32m     47\u001b[0m \u001b[38;5;28;01mdef\u001b[39;00m\u001b[38;5;250m \u001b[39m\u001b[38;5;21mmainLoop\u001b[39m(\u001b[38;5;241m*\u001b[39margs, \u001b[38;5;241m*\u001b[39m\u001b[38;5;241m*\u001b[39mkwds):\n\u001b[0;32m     48\u001b[0m \u001b[38;5;250m    \u001b[39m\u001b[38;5;124;03m\"\"\"\u001b[39;00m\n\u001b[0;32m     49\u001b[0m \n\u001b[0;32m     50\u001b[0m \u001b[38;5;124;03m    :param args:\u001b[39;00m\n\u001b[0;32m     51\u001b[0m \u001b[38;5;124;03m    :param kwds:\u001b[39;00m\n\u001b[0;32m     52\u001b[0m \u001b[38;5;124;03m    :return:\u001b[39;00m\n\u001b[0;32m     53\u001b[0m \u001b[38;5;124;03m    \"\"\"\u001b[39;00m\n\u001b[1;32m---> 54\u001b[0m     \u001b[43mCompuCellSetup\u001b[49m\u001b[38;5;241;43m.\u001b[39;49m\u001b[43mrun\u001b[49m\u001b[43m(\u001b[49m\u001b[43m)\u001b[49m\n",
      "File \u001b[1;32ma:\\conda_envs\\cc3d_env\\lib\\site-packages\\cc3d\\CompuCellSetup\\simulation_setup.py:138\u001b[0m, in \u001b[0;36mrun\u001b[1;34m()\u001b[0m\n\u001b[0;32m    136\u001b[0m simulation_initialized \u001b[38;5;241m=\u001b[39m persistent_globals\u001b[38;5;241m.\u001b[39msimulation_initialized\n\u001b[0;32m    137\u001b[0m \u001b[38;5;28;01mif\u001b[39;00m \u001b[38;5;129;01mnot\u001b[39;00m simulation_initialized:\n\u001b[1;32m--> 138\u001b[0m     \u001b[43minitialize_cc3d\u001b[49m\u001b[43m(\u001b[49m\u001b[43m)\u001b[49m\n\u001b[0;32m    139\u001b[0m     check_for_cpp_errors(CompuCellSetup\u001b[38;5;241m.\u001b[39mpersistent_globals\u001b[38;5;241m.\u001b[39msimulator)\n\u001b[0;32m    141\u001b[0m     persistent_globals\u001b[38;5;241m.\u001b[39msteppable_registry\u001b[38;5;241m.\u001b[39mcore_init()\n",
      "File \u001b[1;32ma:\\conda_envs\\cc3d_env\\lib\\site-packages\\cc3d\\CompuCellSetup\\simulation_setup.py:92\u001b[0m, in \u001b[0;36minitialize_cc3d\u001b[1;34m()\u001b[0m\n\u001b[0;32m     86\u001b[0m \u001b[38;5;28;01mdef\u001b[39;00m\u001b[38;5;250m \u001b[39m\u001b[38;5;21minitialize_cc3d\u001b[39m():\n\u001b[0;32m     87\u001b[0m \u001b[38;5;250m    \u001b[39m\u001b[38;5;124;03m\"\"\"\u001b[39;00m\n\u001b[0;32m     88\u001b[0m \n\u001b[0;32m     89\u001b[0m \u001b[38;5;124;03m    :return:\u001b[39;00m\n\u001b[0;32m     90\u001b[0m \u001b[38;5;124;03m    \"\"\"\u001b[39;00m\n\u001b[0;32m     91\u001b[0m     CompuCellSetup\u001b[38;5;241m.\u001b[39mpersistent_globals\u001b[38;5;241m.\u001b[39msimulator, \\\n\u001b[1;32m---> 92\u001b[0m     CompuCellSetup\u001b[38;5;241m.\u001b[39mpersistent_globals\u001b[38;5;241m.\u001b[39msimthread \u001b[38;5;241m=\u001b[39m \u001b[43mget_core_simulation_objects\u001b[49m\u001b[43m(\u001b[49m\u001b[43m)\u001b[49m\n\u001b[0;32m     94\u001b[0m     \u001b[38;5;66;03m# this is mainly used by command line interface. Player has separate setup_logging function\u001b[39;00m\n\u001b[0;32m     95\u001b[0m     setup_logging()\n",
      "File \u001b[1;32ma:\\conda_envs\\cc3d_env\\lib\\site-packages\\cc3d\\CompuCellSetup\\simulation_setup.py:290\u001b[0m, in \u001b[0;36mget_core_simulation_objects\u001b[1;34m()\u001b[0m\n\u001b[0;32m    288\u001b[0m \u001b[38;5;28;01mif\u001b[39;00m persistent_globals\u001b[38;5;241m.\u001b[39mcc3d_xml_2_obj_converter \u001b[38;5;129;01mis\u001b[39;00m \u001b[38;5;28;01mNone\u001b[39;00m:\n\u001b[0;32m    289\u001b[0m     \u001b[38;5;28;01mif\u001b[39;00m xml_fname \u001b[38;5;129;01mis\u001b[39;00m \u001b[38;5;28;01mNone\u001b[39;00m:\n\u001b[1;32m--> 290\u001b[0m         \u001b[38;5;28;01mraise\u001b[39;00m \u001b[38;5;167;01mRuntimeError\u001b[39;00m(\u001b[38;5;124m'\u001b[39m\u001b[38;5;124mNo CC3D core specification available\u001b[39m\u001b[38;5;124m'\u001b[39m)\n\u001b[0;32m    292\u001b[0m     \u001b[38;5;66;03m# We only call parseXML if previous steps do not initialize XML tree\u001b[39;00m\n\u001b[0;32m    293\u001b[0m     \u001b[38;5;66;03m# Such situation usually happen when we specify XML tree using Python API in configure_simulation function\u001b[39;00m\n\u001b[0;32m    294\u001b[0m     \u001b[38;5;66;03m# that is typically called from the Python main script\u001b[39;00m\n\u001b[0;32m    296\u001b[0m     cc3d_xml2_obj_converter \u001b[38;5;241m=\u001b[39m parseXML(xml_fname\u001b[38;5;241m=\u001b[39mxml_fname)\n",
      "\u001b[1;31mRuntimeError\u001b[0m: No CC3D core specification available"
     ]
    }
   ],
   "source": [
    "import sys \n",
    "from os import environ \n",
    "from os import getcwd \n",
    "import string \n",
    "# sys.path.append(environ[\"PYTHON_MODULE_PATH\"]) \n",
    "import cc3d.CompuCellSetup as CompuCellSetup\n",
    "# import CompuCellSetup \n",
    "sim,simthread = CompuCellSetup.getCoreSimulationObjects() \n",
    "#Create extra player fields here or add attributes \n",
    "CompuCellSetup.initializeSimulationObjects(sim,simthread) \n",
    "#Add Python steppables here \n",
    "steppableRegistry=CompuCellSetup.getSteppableRegistry() \n",
    "CompuCellSetup.mainLoop(sim,simthread,steppableRegistry)"
   ]
  },
  {
   "cell_type": "code",
   "execution_count": 5,
   "id": "d9821f38",
   "metadata": {},
   "outputs": [
    {
     "ename": "RuntimeError",
     "evalue": "No CC3D core specification available",
     "output_type": "error",
     "traceback": [
      "\u001b[1;31m---------------------------------------------------------------------------\u001b[0m",
      "\u001b[1;31mRuntimeError\u001b[0m                              Traceback (most recent call last)",
      "Cell \u001b[1;32mIn[5], line 5\u001b[0m\n\u001b[0;32m      3\u001b[0m cc3d_sim \u001b[38;5;241m=\u001b[39m CC3DSimService()     \u001b[38;5;66;03m# Create a simulation\u001b[39;00m\n\u001b[0;32m      4\u001b[0m \u001b[38;5;66;03m# Load specification here...\u001b[39;00m\n\u001b[1;32m----> 5\u001b[0m \u001b[43mcc3d_sim\u001b[49m\u001b[38;5;241;43m.\u001b[39;49m\u001b[43mrun\u001b[49m\u001b[43m(\u001b[49m\u001b[43m)\u001b[49m                  \u001b[38;5;66;03m# Start the underlying process of the simulation\u001b[39;00m\n\u001b[0;32m      6\u001b[0m cc3d_sim\u001b[38;5;241m.\u001b[39minit()                 \u001b[38;5;66;03m# Execute the simulation initialization stage\u001b[39;00m\n\u001b[0;32m      7\u001b[0m cc3d_sim\u001b[38;5;241m.\u001b[39mstart()                \u001b[38;5;66;03m# Execute the simulation startup stage (e.g., steppable `start` is called)\u001b[39;00m\n",
      "File \u001b[1;32ma:\\conda_envs\\cc3d_env\\lib\\site-packages\\cc3d\\core\\simservice\\CC3DSimService.py:113\u001b[0m, in \u001b[0;36mCC3DSimService.run\u001b[1;34m(self)\u001b[0m\n\u001b[0;32m    112\u001b[0m \u001b[38;5;28;01mdef\u001b[39;00m\u001b[38;5;250m \u001b[39m\u001b[38;5;21mrun\u001b[39m(\u001b[38;5;28mself\u001b[39m):\n\u001b[1;32m--> 113\u001b[0m     \u001b[43mPySimService\u001b[49m\u001b[38;5;241;43m.\u001b[39;49m\u001b[43mrun\u001b[49m\u001b[43m(\u001b[49m\u001b[38;5;28;43mself\u001b[39;49m\u001b[43m)\u001b[49m\n",
      "File \u001b[1;32ma:\\conda_envs\\cc3d_env\\lib\\site-packages\\simservice\\PySimService.py:95\u001b[0m, in \u001b[0;36mPySimService.run\u001b[1;34m(self)\u001b[0m\n\u001b[0;32m     81\u001b[0m \u001b[38;5;28;01mdef\u001b[39;00m\u001b[38;5;250m \u001b[39m\u001b[38;5;21mrun\u001b[39m(\u001b[38;5;28mself\u001b[39m):\n\u001b[0;32m     82\u001b[0m \u001b[38;5;250m    \u001b[39m\u001b[38;5;124;03m\"\"\"\u001b[39;00m\n\u001b[0;32m     83\u001b[0m \u001b[38;5;124;03m    Initialize underlying simulation\u001b[39;00m\n\u001b[0;32m     84\u001b[0m \n\u001b[1;32m   (...)\u001b[0m\n\u001b[0;32m     92\u001b[0m \u001b[38;5;124;03m    :return: name and reference of this service instance\u001b[39;00m\n\u001b[0;32m     93\u001b[0m \u001b[38;5;124;03m    \"\"\"\u001b[39;00m\n\u001b[1;32m---> 95\u001b[0m     \u001b[38;5;28;43mself\u001b[39;49m\u001b[38;5;241;43m.\u001b[39;49m\u001b[43m_run\u001b[49m\u001b[43m(\u001b[49m\u001b[43m)\u001b[49m\n\u001b[0;32m     97\u001b[0m     \u001b[38;5;28mself\u001b[39m\u001b[38;5;241m.\u001b[39mstatus \u001b[38;5;241m=\u001b[39m SimStatus\u001b[38;5;241m.\u001b[39mSIM_LOADED\n\u001b[0;32m     99\u001b[0m     \u001b[38;5;28mself\u001b[39m\u001b[38;5;241m.\u001b[39m_inside_run(\u001b[38;5;28mself\u001b[39m)\n",
      "File \u001b[1;32ma:\\conda_envs\\cc3d_env\\lib\\site-packages\\cc3d\\core\\simservice\\CC3DSimService.py:110\u001b[0m, in \u001b[0;36mCC3DSimService._run\u001b[1;34m(self)\u001b[0m\n\u001b[0;32m    108\u001b[0m \u001b[38;5;66;03m# Call startup if loaded simulation file didn't already do it\u001b[39;00m\n\u001b[0;32m    109\u001b[0m \u001b[38;5;28;01mif\u001b[39;00m CompuCellSetup\u001b[38;5;241m.\u001b[39mpersistent_globals\u001b[38;5;241m.\u001b[39msimulator \u001b[38;5;129;01mis\u001b[39;00m \u001b[38;5;28;01mNone\u001b[39;00m:\n\u001b[1;32m--> 110\u001b[0m     \u001b[43mCompuCellSetup\u001b[49m\u001b[38;5;241;43m.\u001b[39;49m\u001b[43mrun\u001b[49m\u001b[43m(\u001b[49m\u001b[43m)\u001b[49m\n",
      "File \u001b[1;32ma:\\conda_envs\\cc3d_env\\lib\\site-packages\\cc3d\\CompuCellSetup\\simulation_setup.py:138\u001b[0m, in \u001b[0;36mrun\u001b[1;34m()\u001b[0m\n\u001b[0;32m    136\u001b[0m simulation_initialized \u001b[38;5;241m=\u001b[39m persistent_globals\u001b[38;5;241m.\u001b[39msimulation_initialized\n\u001b[0;32m    137\u001b[0m \u001b[38;5;28;01mif\u001b[39;00m \u001b[38;5;129;01mnot\u001b[39;00m simulation_initialized:\n\u001b[1;32m--> 138\u001b[0m     \u001b[43minitialize_cc3d\u001b[49m\u001b[43m(\u001b[49m\u001b[43m)\u001b[49m\n\u001b[0;32m    139\u001b[0m     check_for_cpp_errors(CompuCellSetup\u001b[38;5;241m.\u001b[39mpersistent_globals\u001b[38;5;241m.\u001b[39msimulator)\n\u001b[0;32m    141\u001b[0m     persistent_globals\u001b[38;5;241m.\u001b[39msteppable_registry\u001b[38;5;241m.\u001b[39mcore_init()\n",
      "File \u001b[1;32ma:\\conda_envs\\cc3d_env\\lib\\site-packages\\cc3d\\CompuCellSetup\\simulation_setup.py:92\u001b[0m, in \u001b[0;36minitialize_cc3d\u001b[1;34m()\u001b[0m\n\u001b[0;32m     86\u001b[0m \u001b[38;5;28;01mdef\u001b[39;00m\u001b[38;5;250m \u001b[39m\u001b[38;5;21minitialize_cc3d\u001b[39m():\n\u001b[0;32m     87\u001b[0m \u001b[38;5;250m    \u001b[39m\u001b[38;5;124;03m\"\"\"\u001b[39;00m\n\u001b[0;32m     88\u001b[0m \n\u001b[0;32m     89\u001b[0m \u001b[38;5;124;03m    :return:\u001b[39;00m\n\u001b[0;32m     90\u001b[0m \u001b[38;5;124;03m    \"\"\"\u001b[39;00m\n\u001b[0;32m     91\u001b[0m     CompuCellSetup\u001b[38;5;241m.\u001b[39mpersistent_globals\u001b[38;5;241m.\u001b[39msimulator, \\\n\u001b[1;32m---> 92\u001b[0m     CompuCellSetup\u001b[38;5;241m.\u001b[39mpersistent_globals\u001b[38;5;241m.\u001b[39msimthread \u001b[38;5;241m=\u001b[39m \u001b[43mget_core_simulation_objects\u001b[49m\u001b[43m(\u001b[49m\u001b[43m)\u001b[49m\n\u001b[0;32m     94\u001b[0m     \u001b[38;5;66;03m# this is mainly used by command line interface. Player has separate setup_logging function\u001b[39;00m\n\u001b[0;32m     95\u001b[0m     setup_logging()\n",
      "File \u001b[1;32ma:\\conda_envs\\cc3d_env\\lib\\site-packages\\cc3d\\CompuCellSetup\\simulation_setup.py:290\u001b[0m, in \u001b[0;36mget_core_simulation_objects\u001b[1;34m()\u001b[0m\n\u001b[0;32m    288\u001b[0m \u001b[38;5;28;01mif\u001b[39;00m persistent_globals\u001b[38;5;241m.\u001b[39mcc3d_xml_2_obj_converter \u001b[38;5;129;01mis\u001b[39;00m \u001b[38;5;28;01mNone\u001b[39;00m:\n\u001b[0;32m    289\u001b[0m     \u001b[38;5;28;01mif\u001b[39;00m xml_fname \u001b[38;5;129;01mis\u001b[39;00m \u001b[38;5;28;01mNone\u001b[39;00m:\n\u001b[1;32m--> 290\u001b[0m         \u001b[38;5;28;01mraise\u001b[39;00m \u001b[38;5;167;01mRuntimeError\u001b[39;00m(\u001b[38;5;124m'\u001b[39m\u001b[38;5;124mNo CC3D core specification available\u001b[39m\u001b[38;5;124m'\u001b[39m)\n\u001b[0;32m    292\u001b[0m     \u001b[38;5;66;03m# We only call parseXML if previous steps do not initialize XML tree\u001b[39;00m\n\u001b[0;32m    293\u001b[0m     \u001b[38;5;66;03m# Such situation usually happen when we specify XML tree using Python API in configure_simulation function\u001b[39;00m\n\u001b[0;32m    294\u001b[0m     \u001b[38;5;66;03m# that is typically called from the Python main script\u001b[39;00m\n\u001b[0;32m    296\u001b[0m     cc3d_xml2_obj_converter \u001b[38;5;241m=\u001b[39m parseXML(xml_fname\u001b[38;5;241m=\u001b[39mxml_fname)\n",
      "\u001b[1;31mRuntimeError\u001b[0m: No CC3D core specification available"
     ]
    }
   ],
   "source": [
    "from cc3d.CompuCellSetup.CC3DCaller import CC3DSimService\n",
    "\n",
    "cc3d_sim = CC3DSimService()     # Create a simulation\n",
    "# Load specification here...\n",
    "cc3d_sim.run()                  # Start the underlying process of the simulation\n",
    "cc3d_sim.init()                 # Execute the simulation initialization stage\n",
    "cc3d_sim.start()                # Execute the simulation startup stage (e.g., steppable `start` is called)\n",
    "cc3d_sim.step()                 # Execute one simulation step\n",
    "cc3d_sim.finish()               # Execute the simulation finalization stage (e.g., steppable `finish` is called)"
   ]
  },
  {
   "cell_type": "code",
   "execution_count": null,
   "id": "b4943487",
   "metadata": {},
   "outputs": [],
   "source": []
  }
 ],
 "metadata": {
  "kernelspec": {
   "display_name": "cc3d_env",
   "language": "python",
   "name": "python3"
  },
  "language_info": {
   "codemirror_mode": {
    "name": "ipython",
    "version": 3
   },
   "file_extension": ".py",
   "mimetype": "text/x-python",
   "name": "python",
   "nbconvert_exporter": "python",
   "pygments_lexer": "ipython3",
   "version": "3.10.17"
  }
 },
 "nbformat": 4,
 "nbformat_minor": 5
}
