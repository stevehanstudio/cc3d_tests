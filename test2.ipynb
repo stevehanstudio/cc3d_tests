{
 "cells": [
  {
   "cell_type": "code",
   "execution_count": 1,
   "id": "32a29f75",
   "metadata": {},
   "outputs": [
    {
     "name": "stderr",
     "output_type": "stream",
     "text": [
      "a:\\conda_envs\\cc3d_env\\lib\\site-packages\\cc3d\\core\\Configuration\\SettingUtils.py:248: UserWarning: Setting not set: PlayerSizes\n",
      "  warnings.warn(f'Setting not set: {_el.attrib[\"Name\"]}')\n",
      "a:\\conda_envs\\cc3d_env\\lib\\site-packages\\cc3d\\core\\Configuration\\SettingUtils.py:248: UserWarning: Setting not set: PlayerSizesFloating\n",
      "  warnings.warn(f'Setting not set: {_el.attrib[\"Name\"]}')\n",
      "a:\\conda_envs\\cc3d_env\\lib\\site-packages\\cc3d\\core\\Configuration\\SettingUtils.py:248: UserWarning: Setting not set: RecentSimulations\n",
      "  warnings.warn(f'Setting not set: {_el.attrib[\"Name\"]}')\n"
     ]
    },
    {
     "ename": "ImportError",
     "evalue": "cannot import name 'serviceCore' from 'cc3d.core.simservice' (a:\\conda_envs\\cc3d_env\\lib\\site-packages\\cc3d\\core\\simservice\\__init__.py)",
     "output_type": "error",
     "traceback": [
      "\u001b[1;31m---------------------------------------------------------------------------\u001b[0m",
      "\u001b[1;31mImportError\u001b[0m                               Traceback (most recent call last)",
      "Cell \u001b[1;32mIn[1], line 3\u001b[0m\n\u001b[0;32m      1\u001b[0m \u001b[38;5;66;03m# Step 0: Import required modules\u001b[39;00m\n\u001b[0;32m      2\u001b[0m \u001b[38;5;28;01mfrom\u001b[39;00m\u001b[38;5;250m \u001b[39m\u001b[38;5;21;01mcc3d\u001b[39;00m\u001b[38;5;250m \u001b[39m\u001b[38;5;28;01mimport\u001b[39;00m CompuCellSetup\n\u001b[1;32m----> 3\u001b[0m \u001b[38;5;28;01mfrom\u001b[39;00m\u001b[38;5;250m \u001b[39m\u001b[38;5;21;01mcc3d\u001b[39;00m\u001b[38;5;21;01m.\u001b[39;00m\u001b[38;5;21;01mcore\u001b[39;00m\u001b[38;5;21;01m.\u001b[39;00m\u001b[38;5;21;01msimservice\u001b[39;00m\u001b[38;5;250m \u001b[39m\u001b[38;5;28;01mimport\u001b[39;00m serviceCore\n\u001b[0;32m      4\u001b[0m \u001b[38;5;28;01mfrom\u001b[39;00m\u001b[38;5;250m \u001b[39m\u001b[38;5;21;01mcc3d\u001b[39;00m\u001b[38;5;21;01m.\u001b[39;00m\u001b[38;5;21;01mcore\u001b[39;00m\u001b[38;5;21;01m.\u001b[39;00m\u001b[38;5;21;01mXMLUtils\u001b[39;00m\u001b[38;5;250m \u001b[39m\u001b[38;5;28;01mimport\u001b[39;00m ElementCC3D\n\u001b[0;32m      5\u001b[0m \u001b[38;5;28;01mfrom\u001b[39;00m\u001b[38;5;250m \u001b[39m\u001b[38;5;21;01mcc3d\u001b[39;00m\u001b[38;5;21;01m.\u001b[39;00m\u001b[38;5;21;01mcore\u001b[39;00m\u001b[38;5;21;01m.\u001b[39;00m\u001b[38;5;21;01mPySteppables\u001b[39;00m\u001b[38;5;250m \u001b[39m\u001b[38;5;28;01mimport\u001b[39;00m SteppableBasePy\n",
      "\u001b[1;31mImportError\u001b[0m: cannot import name 'serviceCore' from 'cc3d.core.simservice' (a:\\conda_envs\\cc3d_env\\lib\\site-packages\\cc3d\\core\\simservice\\__init__.py)"
     ]
    }
   ],
   "source": [
    "# Step 0: Import required modules\n",
    "from cc3d import CompuCellSetup\n",
    "from cc3d.core.simservice import serviceCore\n",
    "from cc3d.core.XMLUtils import ElementCC3D\n",
    "from cc3d.core.PySteppables import SteppableBasePy"
   ]
  },
  {
   "cell_type": "code",
   "execution_count": null,
   "id": "f054c893",
   "metadata": {},
   "outputs": [],
   "source": [
    "# Step 1: Define the simulation (Potts and basic configuration)\n",
    "sim = serviceCore.Simulation()\n",
    "\n",
    "# Add Potts section\n",
    "potts_element = ElementCC3D(\"Potts\")\n",
    "potts_element.ElementCC3D(\"Dimensions\", {\"x\": 100, \"y\": 100, \"z\": 1})\n",
    "potts_element.ElementCC3D(\"Steps\", {}, \"1000\")\n",
    "potts_element.ElementCC3D(\"Temperature\", {}, \"20.0\")\n",
    "sim.addCC3DXML(potts_element)"
   ]
  },
  {
   "cell_type": "code",
   "execution_count": null,
   "id": "adc9bc0f",
   "metadata": {},
   "outputs": [],
   "source": [
    "# Step 2: Add a basic cell type plugin\n",
    "plugin_element = ElementCC3D(\"Plugin\", {\"Name\": \"CellType\"})\n",
    "plugin_element.ElementCC3D(\"CellType\", {\"TypeName\": \"Medium\", \"TypeId\": \"0\"})\n",
    "plugin_element.ElementCC3D(\"CellType\", {\"TypeName\": \"Condensing\", \"TypeId\": \"1\"})\n",
    "sim.addCC3DXML(plugin_element)"
   ]
  },
  {
   "cell_type": "code",
   "execution_count": null,
   "id": "735ce92e",
   "metadata": {},
   "outputs": [],
   "source": [
    "# Step 3: Define and register a simple steppable\n",
    "class GrowthSteppable(SteppableBasePy):\n",
    "    def __init__(self, frequency=1):\n",
    "        SteppableBasePy.__init__(self, frequency)\n",
    "\n",
    "    def start(self):\n",
    "        # Create a single cell at the center\n",
    "        cell = self.newCell(self.CONDENSING)\n",
    "        self.cellField[50:60, 50:60, 0] = cell\n",
    "\n",
    "    def step(self, mcs):\n",
    "        # Grow all cells\n",
    "        for cell in self.cellList:\n",
    "            cell.targetVolume += 1\n",
    "            cell.lambdaVolume = 2.0"
   ]
  },
  {
   "cell_type": "code",
   "execution_count": null,
   "id": "2621c931",
   "metadata": {},
   "outputs": [],
   "source": [
    "# Register the steppable\n",
    "sim.registerSteppable(GrowthSteppable(frequency=1))"
   ]
  },
  {
   "cell_type": "code",
   "execution_count": null,
   "id": "e4aec1f4",
   "metadata": {},
   "outputs": [],
   "source": [
    "# Step 4: Run the simulation (in-memory only, no GUI)\n",
    "CompuCellSetup.setSimulation(sim)\n",
    "CompuCellSetup.run()"
   ]
  },
  {
   "cell_type": "code",
   "execution_count": 2,
   "id": "ce818d93",
   "metadata": {},
   "outputs": [
    {
     "name": "stdout",
     "output_type": "stream",
     "text": [
      "a:\\conda_envs\\cc3d_env\\lib\\site-packages\\cc3d\\__init__.py\n",
      "4.6.0\n"
     ]
    }
   ],
   "source": [
    "import cc3d\n",
    "print(cc3d.__file__)\n",
    "print(cc3d.__version__)"
   ]
  },
  {
   "cell_type": "code",
   "execution_count": null,
   "id": "1ada4eec",
   "metadata": {},
   "outputs": [],
   "source": []
  }
 ],
 "metadata": {
  "kernelspec": {
   "display_name": "cc3d_env",
   "language": "python",
   "name": "python3"
  },
  "language_info": {
   "codemirror_mode": {
    "name": "ipython",
    "version": 3
   },
   "file_extension": ".py",
   "mimetype": "text/x-python",
   "name": "python",
   "nbconvert_exporter": "python",
   "pygments_lexer": "ipython3",
   "version": "3.10.17"
  }
 },
 "nbformat": 4,
 "nbformat_minor": 5
}
