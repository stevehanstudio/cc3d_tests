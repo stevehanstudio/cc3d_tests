{
 "cells": [
  {
   "cell_type": "code",
   "execution_count": 1,
   "id": "f5912285",
   "metadata": {},
   "outputs": [
    {
     "name": "stderr",
     "output_type": "stream",
     "text": [
      "a:\\conda_envs\\cc3d_env\\lib\\site-packages\\cc3d\\core\\Configuration\\SettingUtils.py:248: UserWarning: Setting not set: PlayerSizes\n",
      "  warnings.warn(f'Setting not set: {_el.attrib[\"Name\"]}')\n",
      "a:\\conda_envs\\cc3d_env\\lib\\site-packages\\cc3d\\core\\Configuration\\SettingUtils.py:248: UserWarning: Setting not set: PlayerSizesFloating\n",
      "  warnings.warn(f'Setting not set: {_el.attrib[\"Name\"]}')\n",
      "a:\\conda_envs\\cc3d_env\\lib\\site-packages\\cc3d\\core\\Configuration\\SettingUtils.py:248: UserWarning: Setting not set: RecentSimulations\n",
      "  warnings.warn(f'Setting not set: {_el.attrib[\"Name\"]}')\n"
     ]
    }
   ],
   "source": [
    "from cc3d.CompuCellSetup.CC3DCaller import CC3DSimService\n",
    "from cc3d.core.PyCoreSpecs import PottsCore, CellTypePlugin, VolumePlugin, ContactPlugin, BlobInitializer\n",
    "from cc3d.core.PySteppables import SteppableBasePy"
   ]
  },
  {
   "cell_type": "code",
   "execution_count": 2,
   "id": "718ce3c3",
   "metadata": {},
   "outputs": [
    {
     "data": {
      "text/plain": [
       "<cc3d.core.PyCoreSpecs.BlobInitializerRegion at 0x239023f4430>"
      ]
     },
     "execution_count": 2,
     "metadata": {},
     "output_type": "execute_result"
    }
   ],
   "source": [
    "# Define simulation lattice and neighborhood\n",
    "potts_specs = PottsCore(dim_x=100, dim_y=100, neighbor_order=2)\n",
    "\n",
    "# Define cell types\n",
    "cell_type_specs = CellTypePlugin(\"Condensing\", \"NonCondensing\")\n",
    "\n",
    "# Volume constraint for both cell types\n",
    "volume_specs = VolumePlugin()\n",
    "volume_specs.param_new(\"Condensing\", target_volume=25, lambda_volume=2)\n",
    "volume_specs.param_new(\"NonCondensing\", target_volume=25, lambda_volume=2)\n",
    "\n",
    "# Adhesion (contact energy) between types\n",
    "contact_specs = ContactPlugin(neighbor_order=2)\n",
    "contact_specs.param_new(type_1=\"Medium\", type_2=\"Condensing\", energy=20)\n",
    "contact_specs.param_new(type_1=\"Medium\", type_2=\"NonCondensing\", energy=20)\n",
    "contact_specs.param_new(type_1=\"Condensing\", type_2=\"Condensing\", energy=2)\n",
    "contact_specs.param_new(type_1=\"Condensing\", type_2=\"NonCondensing\", energy=11)\n",
    "contact_specs.param_new(type_1=\"NonCondensing\", type_2=\"NonCondensing\", energy=16)\n",
    "\n",
    "# Initialize cells as a blob\n",
    "blob_init_specs = BlobInitializer()\n",
    "blob_init_specs.region_new(width=5, radius=20, center=(50, 50, 0), cell_types=(\"Condensing\", \"NonCondensing\"))\n"
   ]
  },
  {
   "cell_type": "code",
   "execution_count": null,
   "id": "7a4344b1",
   "metadata": {},
   "outputs": [],
   "source": [
    "class GrowthSteppable(SteppableBasePy):\n",
    "    def start(self):\n",
    "        # Set initial volume parameters\n",
    "        for cell in self.cell_list:\n",
    "            cell.targetVolume = 25\n",
    "            cell.lambdaVolume = 2\n",
    "\n",
    "    def step(self, mcs):\n",
    "        # Example: update target volume every 100 steps\n",
    "        if mcs % 100 == 0:\n",
    "            for cell in self.cell_list:\n",
    "                cell.targetVolume += 1  # simple growth"
   ]
  },
  {
   "cell_type": "code",
   "execution_count": null,
   "id": "9abf74d3",
   "metadata": {},
   "outputs": [],
   "source": [
    "cc3d_sim = CC3DSimService()\n",
    "cc3d_sim.register_specs([potts_specs, cell_type_specs, volume_specs, contact_specs, blob_init_specs])\n",
    "cc3d_sim.register_steppable(steppable=GrowthSteppable, frequency=1)"
   ]
  },
  {
   "cell_type": "code",
   "execution_count": 5,
   "id": "123ab459",
   "metadata": {},
   "outputs": [
    {
     "name": "stdout",
     "output_type": "stream",
     "text": [
      "WILL RUN SIMULATION FROM BEGINNING\n"
     ]
    }
   ],
   "source": [
    "cc3d_sim.run()\n",
    "cc3d_sim.init()\n",
    "cc3d_sim.start()\n",
    "\n",
    "num_steps = 1000\n",
    "while cc3d_sim.current_step < num_steps:\n",
    "    cc3d_sim.step()"
   ]
  },
  {
   "cell_type": "code",
   "execution_count": null,
   "id": "c4519903",
   "metadata": {},
   "outputs": [],
   "source": []
  }
 ],
 "metadata": {
  "kernelspec": {
   "display_name": "cc3d_env",
   "language": "python",
   "name": "python3"
  },
  "language_info": {
   "codemirror_mode": {
    "name": "ipython",
    "version": 3
   },
   "file_extension": ".py",
   "mimetype": "text/x-python",
   "name": "python",
   "nbconvert_exporter": "python",
   "pygments_lexer": "ipython3",
   "version": "3.10.17"
  }
 },
 "nbformat": 4,
 "nbformat_minor": 5
}
