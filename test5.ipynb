{
 "cells": [
  {
   "cell_type": "markdown",
   "id": "3689365e",
   "metadata": {},
   "source": [
    "## Import Core Modules\n",
    "\n",
    "* Imports the main CompuCell3D simulation service (`CC3DSimService`), which manages the simulation lifecycle.\n",
    "\n",
    "* Imports visualization tools for Jupyter (`CC3DJupyterGraphicsFrameGrid`).\n",
    "\n",
    "* Imports `core` simulation specification classes (`Potts` model, `cell types`, `volume` and `contact plugins`, and `blob initializer`).\n",
    "\n",
    "* Imports `display` to show widgets and graphics inside notebook cells."
   ]
  },
  {
   "cell_type": "code",
   "execution_count": 3,
   "id": "e073c6f2",
   "metadata": {},
   "outputs": [
    {
     "name": "stderr",
     "output_type": "stream",
     "text": [
      "a:\\conda_envs\\cc3d_env\\lib\\site-packages\\cc3d\\core\\Configuration\\SettingUtils.py:248: UserWarning: Setting not set: PlayerSizes\n",
      "  warnings.warn(f'Setting not set: {_el.attrib[\"Name\"]}')\n",
      "a:\\conda_envs\\cc3d_env\\lib\\site-packages\\cc3d\\core\\Configuration\\SettingUtils.py:248: UserWarning: Setting not set: PlayerSizesFloating\n",
      "  warnings.warn(f'Setting not set: {_el.attrib[\"Name\"]}')\n",
      "a:\\conda_envs\\cc3d_env\\lib\\site-packages\\cc3d\\core\\Configuration\\SettingUtils.py:248: UserWarning: Setting not set: RecentSimulations\n",
      "  warnings.warn(f'Setting not set: {_el.attrib[\"Name\"]}')\n"
     ]
    }
   ],
   "source": [
    "from cc3d.CompuCellSetup.CC3DCaller import CC3DSimService\n",
    "from cc3d.core.GraphicsUtils.JupyterGraphicsFrameWidget import CC3DJupyterGraphicsFrameGrid\n",
    "from cc3d.core.PyCoreSpecs import PottsCore, CellTypePlugin, VolumePlugin, ContactPlugin, BlobInitializer\n",
    "from IPython.display import display"
   ]
  },
  {
   "cell_type": "markdown",
   "id": "e7d00ed2",
   "metadata": {},
   "source": [
    "## Define Simulation Specifications (Plugins)\n",
    "\n",
    "* Sets up the simulation grid size and neighborhood for the Potts model.\n",
    "\n",
    "* Defines two cell types: \"Condensing\" and \"NonCondensing\".\n",
    "\n",
    "* Adds a volume constraint plugin for both cell types.\n",
    "\n",
    "* Configures contact (adhesion) energies between cell types and the medium.\n",
    "\n",
    "* Initializes a blob of both cell types in the center of the simulation grid."
   ]
  },
  {
   "cell_type": "code",
   "execution_count": 4,
   "id": "112912ef",
   "metadata": {},
   "outputs": [
    {
     "data": {
      "text/plain": [
       "<cc3d.core.PyCoreSpecs.BlobInitializerRegion at 0x1fc07100c70>"
      ]
     },
     "execution_count": 4,
     "metadata": {},
     "output_type": "execute_result"
    }
   ],
   "source": [
    "potts_specs = PottsCore(dim_x=100, dim_y=100, neighbor_order=2)\n",
    "cell_type_specs = CellTypePlugin(\"Condensing\", \"NonCondensing\")\n",
    "volume_specs = VolumePlugin()\n",
    "volume_specs.param_new(\"Condensing\", target_volume=25, lambda_volume=2)\n",
    "volume_specs.param_new(\"NonCondensing\", target_volume=25, lambda_volume=2)\n",
    "contact_specs = ContactPlugin(neighbor_order=2)\n",
    "contact_specs.param_new(type_1=\"Medium\", type_2=\"Condensing\", energy=20)\n",
    "contact_specs.param_new(type_1=\"Medium\", type_2=\"NonCondensing\", energy=20)\n",
    "contact_specs.param_new(type_1=\"Condensing\", type_2=\"Condensing\", energy=2)\n",
    "contact_specs.param_new(type_1=\"Condensing\", type_2=\"NonCondensing\", energy=11)\n",
    "contact_specs.param_new(type_1=\"NonCondensing\", type_2=\"NonCondensing\", energy=16)\n",
    "blob_init_specs = BlobInitializer()\n",
    "blob_init_specs.region_new(width=5, radius=20, center=(50, 50, 0), cell_types=(\"Condensing\", \"NonCondensing\"))"
   ]
  },
  {
   "cell_type": "markdown",
   "id": "79cc6bd6",
   "metadata": {},
   "source": [
    "## Create Simulation Object and Register Plugins\n",
    "\n",
    "* Instantiates the simulation service object.\n",
    "\n",
    "* Registers all previously defined plugins/specifications with the simulation. This step is required before running or visualizing"
   ]
  },
  {
   "cell_type": "code",
   "execution_count": 5,
   "id": "54946a86",
   "metadata": {},
   "outputs": [],
   "source": [
    "cc3d_sim = CC3DSimService()\n",
    "cc3d_sim.register_specs([potts_specs, cell_type_specs, volume_specs, contact_specs, blob_init_specs])"
   ]
  },
  {
   "cell_type": "markdown",
   "id": "297a6a43",
   "metadata": {},
   "source": [
    "## Initialize and Start the Simulation\n",
    "\n",
    "* Prepares, initializes, and starts the simulation engine.\n",
    "\n",
    "* These calls must occur before any visualization or stepping, otherwise visualization will fail with a \"Simulator not set\" error"
   ]
  },
  {
   "cell_type": "code",
   "execution_count": 6,
   "id": "722b5519",
   "metadata": {},
   "outputs": [
    {
     "name": "stdout",
     "output_type": "stream",
     "text": [
      "WILL RUN SIMULATION FROM BEGINNING\n"
     ]
    },
    {
     "data": {
      "text/plain": [
       "True"
      ]
     },
     "execution_count": 6,
     "metadata": {},
     "output_type": "execute_result"
    }
   ],
   "source": [
    "# 6. Run the simulation with visualization updates\n",
    "cc3d_sim.run()\n",
    "cc3d_sim.init()\n",
    "cc3d_sim.start()"
   ]
  },
  {
   "cell_type": "markdown",
   "id": "f714630e",
   "metadata": {},
   "source": [
    "## Create and Display a Visualization Frame\n",
    "\n",
    "* Prepares, initializes, and starts the simulation engine.\n",
    "\n",
    "* These calls must occur before any visualization or stepping, otherwise visualization will fail with a \"Simulator not set\" error"
   ]
  },
  {
   "cell_type": "code",
   "execution_count": 16,
   "id": "5d08aeeb",
   "metadata": {},
   "outputs": [
    {
     "data": {
      "text/html": [
       "\n",
       "<style>\n",
       ".output_wrapper, .output {\n",
       "    max-height: 400px;  /* Adjust this value as needed */\n",
       "    max-width: 400px;   /* Adjust this value as needed */\n",
       "    overflow: auto;\n",
       "}\n",
       "</style>\n"
      ],
      "text/plain": [
       "<IPython.core.display.HTML object>"
      ]
     },
     "metadata": {},
     "output_type": "display_data"
    },
    {
     "data": {
      "text/html": [
       "<div style=\"width:100%; height:100%;\">"
      ],
      "text/plain": [
       "<IPython.core.display.HTML object>"
      ]
     },
     "metadata": {},
     "output_type": "display_data"
    },
    {
     "data": {
      "application/vnd.jupyter.widget-view+json": {
       "model_id": "68ecf77a4e0e446184d7670a59d1fdae",
       "version_major": 2,
       "version_minor": 0
      },
      "text/plain": [
       "CC3DViewInteractiveWidget(height=600, layout=Layout(height='auto', width='100%'), width=600)"
      ]
     },
     "metadata": {},
     "output_type": "display_data"
    },
    {
     "data": {
      "text/plain": [
       "None"
      ]
     },
     "metadata": {},
     "output_type": "display_data"
    },
    {
     "data": {
      "text/html": [
       "</div>"
      ],
      "text/plain": [
       "<IPython.core.display.HTML object>"
      ]
     },
     "metadata": {},
     "output_type": "display_data"
    },
    {
     "data": {
      "application/vnd.jupyter.widget-view+json": {
       "model_id": "5ff11d7c9cd149519f01b7908747258d",
       "version_major": 2,
       "version_minor": 0
      },
      "text/plain": [
       "ToggleButton(value=False, description='Run Simulation')"
      ]
     },
     "execution_count": 16,
     "metadata": {},
     "output_type": "execute_result"
    }
   ],
   "source": [
    "from IPython.display import display, HTML\n",
    "display(HTML(\"\"\"\n",
    "<style>\n",
    ".output_wrapper, .output {\n",
    "    max-height: 400px;  /* Adjust this value as needed */\n",
    "    max-width: 400px;   /* Adjust this value as needed */\n",
    "    overflow: auto;\n",
    "}\n",
    "</style>\n",
    "\"\"\"))\n",
    "\n",
    "frame_field = cc3d_sim.visualize()\n",
    "\n",
    "display(HTML('<div style=\"width:100%; height:100%;\">'))\n",
    "display(frame_field.show())\n",
    "display(HTML('</div>'))\n",
    "\n",
    "cc3d_sim.jupyter_run_button()\n",
    "\n"
   ]
  },
  {
   "cell_type": "markdown",
   "id": "354c3551",
   "metadata": {},
   "source": [
    "## Add Interactive Run Button\n",
    "\n",
    "* Adds a play/pause/step button widget to the notebook.\n",
    "\n",
    "* When you press play, the simulation advances and the visualization updates in real time, providing animation and interactive control.\n",
    "\n",
    "* This is the recommended way to animate and interact with your simulation in a Jupyter Notebook."
   ]
  },
  {
   "cell_type": "code",
   "execution_count": 11,
   "id": "dc2c4cad",
   "metadata": {},
   "outputs": [
    {
     "data": {
      "application/vnd.jupyter.widget-view+json": {
       "model_id": "0aa860ecdd5b4899b9d94fe571789427",
       "version_major": 2,
       "version_minor": 0
      },
      "text/plain": [
       "ToggleButton(value=False, description='Run Simulation')"
      ]
     },
     "execution_count": 11,
     "metadata": {},
     "output_type": "execute_result"
    }
   ],
   "source": [
    "cc3d_sim.jupyter_run_button()"
   ]
  },
  {
   "cell_type": "code",
   "execution_count": null,
   "id": "4e489438",
   "metadata": {},
   "outputs": [
    {
     "ename": "ModuleNotFoundError",
     "evalue": "No module named 'JupyterWidgetInterface'",
     "output_type": "error",
     "traceback": [
      "\u001b[1;31m---------------------------------------------------------------------------\u001b[0m",
      "\u001b[1;31mModuleNotFoundError\u001b[0m                       Traceback (most recent call last)",
      "Cell \u001b[1;32mIn[22], line 2\u001b[0m\n\u001b[0;32m      1\u001b[0m \u001b[38;5;28;01mfrom\u001b[39;00m\u001b[38;5;250m \u001b[39m\u001b[38;5;21;01mipywidgets\u001b[39;00m\u001b[38;5;250m \u001b[39m\u001b[38;5;28;01mimport\u001b[39;00m widgets\n\u001b[1;32m----> 2\u001b[0m \u001b[38;5;28;01mfrom\u001b[39;00m\u001b[38;5;250m \u001b[39m\u001b[38;5;21;01mJupyterWidgetInterface\u001b[39;00m\u001b[38;5;250m \u001b[39m\u001b[38;5;28;01mimport\u001b[39;00m JupyterWidgetInterface\n\u001b[0;32m      4\u001b[0m \u001b[38;5;66;03m# Create an instance of JupyterWidgetInterface\u001b[39;00m\n\u001b[0;32m      5\u001b[0m widget_interface \u001b[38;5;241m=\u001b[39m JupyterWidgetInterface()\n",
      "\u001b[1;31mModuleNotFoundError\u001b[0m: No module named 'JupyterWidgetInterface'"
     ]
    }
   ],
   "source": [
    "from ipywidgets import widgets\n",
    "from cc3d.core.GraphicsUtils import JupyterWidgetInterface\n",
    "\n",
    "# Create an instance of JupyterWidgetInterface\n",
    "widget_interface = JupyterWidgetInterface()\n",
    "\n",
    "# Define a callback function for handling widget interactions\n",
    "def on_value_change(keyname, new_value):\n",
    "    print(f\"{keyname} changed to {new_value}\")\n",
    "\n",
    "# Add an integer slider\n",
    "widget_interface.add_int(\"Number of Items\", value=5, min=1, max=10, callback=on_value_change)\n",
    "\n",
    "# Add a float input\n",
    "widget_interface.add_float(\"Price\", value=9.99, callback=on_value_change)\n",
    "\n",
    "# Add a toggle button\n",
    "widget_interface.add_toggle(\"Enable Feature\", value=False, callback=on_value_change)\n",
    "\n",
    "# Add a dropdown select\n",
    "widget_interface.add_select(\"Choose Option\", options=[\"Option 1\", \"Option 2\", \"Option 3\"], callback=on_value_change)\n",
    "\n",
    "# Add a button\n",
    "def on_button_click(keyname):\n",
    "    print(f\"{keyname} button clicked\")\n",
    "\n",
    "widget_interface.add_button(\"Submit\", callback=on_button_click)\n",
    "\n",
    "# Add a color picker\n",
    "widget_interface.add_color(\"Select Color\", value='#00ff00', callback=on_value_change)\n",
    "\n",
    "# Display all widgets\n",
    "for widget_data in widget_interface.data.values():\n",
    "    display(widget_data['widget'])\n",
    "\n",
    "# Example of updating values programmatically\n",
    "new_values = {\n",
    "    \"Number of Items\": 7,\n",
    "    \"Price\": 19.99,\n",
    "    \"Enable Feature\": True,\n",
    "    \"Choose Option\": \"Option 2\"\n",
    "}\n",
    "\n",
    "widget_interface.update_values(new_values)"
   ]
  },
  {
   "cell_type": "code",
   "execution_count": null,
   "id": "a0d9418b",
   "metadata": {},
   "outputs": [],
   "source": []
  }
 ],
 "metadata": {
  "kernelspec": {
   "display_name": "cc3d_env",
   "language": "python",
   "name": "python3"
  },
  "language_info": {
   "codemirror_mode": {
    "name": "ipython",
    "version": 3
   },
   "file_extension": ".py",
   "mimetype": "text/x-python",
   "name": "python",
   "nbconvert_exporter": "python",
   "pygments_lexer": "ipython3",
   "version": "3.10.17"
  }
 },
 "nbformat": 4,
 "nbformat_minor": 5
}
