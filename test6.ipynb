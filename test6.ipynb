{
 "cells": [
  {
   "cell_type": "code",
   "execution_count": null,
   "id": "fa82277e",
   "metadata": {},
   "outputs": [
    {
     "data": {
      "application/vnd.jupyter.widget-view+json": {
       "model_id": "40ab0646e92c4469be4c6075feb92e40",
       "version_major": 2,
       "version_minor": 0
      },
      "text/plain": [
       "FloatSlider(value=2.5, description='m', max=5.0, min=-5.0, step=0.5)"
      ]
     },
     "metadata": {},
     "output_type": "display_data"
    },
    {
     "data": {
      "application/vnd.jupyter.widget-view+json": {
       "model_id": "eb9217c6834a4f868630313a6fa5a7af",
       "version_major": 2,
       "version_minor": 0
      },
      "text/plain": [
       "FloatSlider(value=-5.0, description='c', max=-5.0, min=-5.0, step=0.5)"
      ]
     },
     "metadata": {},
     "output_type": "display_data"
    },
    {
     "data": {
      "application/vnd.jupyter.widget-view+json": {
       "model_id": "135d5153b64e4eb582402f2d7d71ac1a",
       "version_major": 2,
       "version_minor": 0
      },
      "text/plain": [
       "Output()"
      ]
     },
     "metadata": {},
     "output_type": "display_data"
    }
   ],
   "source": [
    "import ipywidgets as widgets\n",
    "\n",
    "from ipywidgets import interactive_output\n",
    "import matplotlib.pyplot as plt\n",
    "import numpy as np\n",
    "\n",
    "def create_line(m, c):\n",
    "    x = np.arange(100)\n",
    "    y = m*x + c\n",
    "\n",
    "    fig  = plt.figure(figsize=(8,5))\n",
    "    plt.plot(x, y)\n",
    "\n",
    "m = widgets.FloatSlider(value=2.5, min=-5, max=5, step=0.5, description=\"m\")\n",
    "c = widgets.FloatSlider(value=8.5, min=-5, max=10, step=0.5, description=\"c\")\n",
    "\n",
    "gui = interactive_output(create_line, {\"m\": m, \"c\": c})\n",
    "display(m, c, gui)"
   ]
  },
  {
   "cell_type": "code",
   "execution_count": null,
   "id": "a94f816a",
   "metadata": {},
   "outputs": [],
   "source": []
  }
 ],
 "metadata": {
  "kernelspec": {
   "display_name": "cc3d_env",
   "language": "python",
   "name": "python3"
  },
  "language_info": {
   "codemirror_mode": {
    "name": "ipython",
    "version": 3
   },
   "file_extension": ".py",
   "mimetype": "text/x-python",
   "name": "python",
   "nbconvert_exporter": "python",
   "pygments_lexer": "ipython3",
   "version": "3.10.17"
  }
 },
 "nbformat": 4,
 "nbformat_minor": 5
}
