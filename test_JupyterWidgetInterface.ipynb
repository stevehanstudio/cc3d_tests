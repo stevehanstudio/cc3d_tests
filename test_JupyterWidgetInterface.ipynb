{
 "cells": [
  {
   "cell_type": "markdown",
   "id": "fb05c598",
   "metadata": {},
   "source": [
    "Test out Integer Slider, Float Input, Toggle button, a button, Add Color"
   ]
  },
  {
   "cell_type": "code",
   "execution_count": 1,
   "id": "65ebe209",
   "metadata": {},
   "outputs": [
    {
     "data": {
      "application/vnd.jupyter.widget-view+json": {
       "model_id": "038a604ba1ce486ab5e476ca5230b8c5",
       "version_major": 2,
       "version_minor": 0
      },
      "text/plain": [
       "IntSlider(value=5, description='Number of Items', max=10, min=1)"
      ]
     },
     "metadata": {},
     "output_type": "display_data"
    },
    {
     "data": {
      "application/vnd.jupyter.widget-view+json": {
       "model_id": "e701595019c847c0a5c454048b4ad435",
       "version_major": 2,
       "version_minor": 0
      },
      "text/plain": [
       "FloatText(value=9.99, description='Price')"
      ]
     },
     "metadata": {},
     "output_type": "display_data"
    },
    {
     "data": {
      "application/vnd.jupyter.widget-view+json": {
       "model_id": "6ee2df849381420b97b3e1d6c378828c",
       "version_major": 2,
       "version_minor": 0
      },
      "text/plain": [
       "Checkbox(value=False, description='Enable Feature')"
      ]
     },
     "metadata": {},
     "output_type": "display_data"
    },
    {
     "data": {
      "application/vnd.jupyter.widget-view+json": {
       "model_id": "b8b0d04deddb431e95d3a882ddb0f8af",
       "version_major": 2,
       "version_minor": 0
      },
      "text/plain": [
       "Dropdown(description='Choose Option', options=('Option 1', 'Option 2', 'Option 3'), value=None)"
      ]
     },
     "metadata": {},
     "output_type": "display_data"
    },
    {
     "data": {
      "application/vnd.jupyter.widget-view+json": {
       "model_id": "4429a909183d45cea338c163feb054e1",
       "version_major": 2,
       "version_minor": 0
      },
      "text/plain": [
       "Button(description='Submit', style=ButtonStyle())"
      ]
     },
     "metadata": {},
     "output_type": "display_data"
    },
    {
     "data": {
      "application/vnd.jupyter.widget-view+json": {
       "model_id": "b168d954dadb4e5285954738f9e5e641",
       "version_major": 2,
       "version_minor": 0
      },
      "text/plain": [
       "ColorPicker(value='#00ff00', concise=True, description='Select Color', style=DescriptionStyle(description_widt…"
      ]
     },
     "metadata": {},
     "output_type": "display_data"
    },
    {
     "name": "stdout",
     "output_type": "stream",
     "text": [
      "Number of Items changed to 7\n",
      "Price changed to 19.99\n",
      "Enable Feature changed to True\n",
      "Choose Option changed to Option 2\n"
     ]
    }
   ],
   "source": [
    "from ipywidgets import widgets\n",
    "from cc3d.core.GraphicsUtils.JupyterWidgetInterface import JupyterWidgetInterface\n",
    "\n",
    "# Create an instance of JupyterWidgetInterface\n",
    "widget_interface = JupyterWidgetInterface()\n",
    "\n",
    "# Define a callback function for handling widget interactions\n",
    "def on_value_change(keyname, new_value):\n",
    "    print(f\"{keyname} changed to {new_value}\")\n",
    "\n",
    "# Add an integer slider\n",
    "widget_interface.add_int(\"Number of Items\", value=5, min=1, max=10, callback=on_value_change)\n",
    "\n",
    "# Add a float input\n",
    "widget_interface.add_float(\"Price\", value=9.99, callback=on_value_change)\n",
    "\n",
    "# Add a toggle button\n",
    "widget_interface.add_toggle(\"Enable Feature\", value=False, callback=on_value_change)\n",
    "\n",
    "# Add a dropdown select\n",
    "widget_interface.add_select(\"Choose Option\", options=[\"Option 1\", \"Option 2\", \"Option 3\"], callback=on_value_change)\n",
    "\n",
    "# Add a button\n",
    "def on_button_click(keyname):\n",
    "    print(f\"{keyname} button clicked\")\n",
    "\n",
    "widget_interface.add_button(\"Submit\", callback=on_button_click)\n",
    "\n",
    "# Add a color picker\n",
    "widget_interface.add_color(\"Select Color\", value='#00ff00', callback=on_value_change)\n",
    "\n",
    "# Display all widgets\n",
    "for widget_data in widget_interface.data.values():\n",
    "    display(widget_data['widget'])\n",
    "\n",
    "# Example of updating values programmatically\n",
    "new_values = {\n",
    "    \"Number of Items\": 7,\n",
    "    \"Price\": 19.99,\n",
    "    \"Enable Feature\": True,\n",
    "    \"Choose Option\": \"Option 2\"\n",
    "}\n",
    "\n",
    "widget_interface.update_values(new_values)"
   ]
  },
  {
   "cell_type": "markdown",
   "id": "a06cc1a7",
   "metadata": {},
   "source": [
    "\n",
    "In addition to testing out Integer Slider, Float Input, Toggle button, a button, Add Color<br/>\n",
    "also tests out Add Grid, File Upload Button Accordion Widget"
   ]
  },
  {
   "cell_type": "code",
   "execution_count": 2,
   "id": "26e234d9",
   "metadata": {},
   "outputs": [
    {
     "name": "stdout",
     "output_type": "stream",
     "text": [
      "Toggle Grid changed to [[True, True], [True, True]]\n"
     ]
    },
    {
     "data": {
      "application/vnd.jupyter.widget-view+json": {
       "model_id": "3ee99837eb1c4590b3002ea654096e5a",
       "version_major": 2,
       "version_minor": 0
      },
      "text/plain": [
       "IntSlider(value=5, description='Number of Items', max=10, min=1)"
      ]
     },
     "metadata": {},
     "output_type": "display_data"
    },
    {
     "data": {
      "application/vnd.jupyter.widget-view+json": {
       "model_id": "5400fe8bb86e46538d4f5a346d1a5112",
       "version_major": 2,
       "version_minor": 0
      },
      "text/plain": [
       "FloatText(value=9.99, description='Price')"
      ]
     },
     "metadata": {},
     "output_type": "display_data"
    },
    {
     "data": {
      "application/vnd.jupyter.widget-view+json": {
       "model_id": "fb9a21e7e2fd4ea0bfbee4ba6f5313e6",
       "version_major": 2,
       "version_minor": 0
      },
      "text/plain": [
       "Checkbox(value=False, description='Enable Feature')"
      ]
     },
     "metadata": {},
     "output_type": "display_data"
    },
    {
     "data": {
      "application/vnd.jupyter.widget-view+json": {
       "model_id": "8b7d3d48f8b34221b4a220299c59ab54",
       "version_major": 2,
       "version_minor": 0
      },
      "text/plain": [
       "Dropdown(description='Choose Option', options=('Option 1', 'Option 2', 'Option 3'), value=None)"
      ]
     },
     "metadata": {},
     "output_type": "display_data"
    },
    {
     "data": {
      "application/vnd.jupyter.widget-view+json": {
       "model_id": "5032a42c1eeb43faba419c3d624c4911",
       "version_major": 2,
       "version_minor": 0
      },
      "text/plain": [
       "Button(description='Submit', style=ButtonStyle())"
      ]
     },
     "metadata": {},
     "output_type": "display_data"
    },
    {
     "data": {
      "application/vnd.jupyter.widget-view+json": {
       "model_id": "843ecf9383eb4c0893059a24ec6a680b",
       "version_major": 2,
       "version_minor": 0
      },
      "text/plain": [
       "ColorPicker(value='#00ff00', concise=True, description='Select Color', style=DescriptionStyle(description_widt…"
      ]
     },
     "metadata": {},
     "output_type": "display_data"
    },
    {
     "data": {
      "application/vnd.jupyter.widget-view+json": {
       "model_id": "3ef7299879594c879d7e28299e16ee23",
       "version_major": 2,
       "version_minor": 0
      },
      "text/plain": [
       "VBox(children=(Label(value='Toggle Grid'), HBox(children=(ToggleButton(value=True, description='0,0'), ToggleB…"
      ]
     },
     "metadata": {},
     "output_type": "display_data"
    },
    {
     "data": {
      "application/vnd.jupyter.widget-view+json": {
       "model_id": "bf97ac8a3880435687fd9e3fbac8f4b5",
       "version_major": 2,
       "version_minor": 0
      },
      "text/plain": [
       "FileUpload(value=(), accept='.txt', description='Upload File')"
      ]
     },
     "metadata": {},
     "output_type": "display_data"
    },
    {
     "data": {
      "application/vnd.jupyter.widget-view+json": {
       "model_id": "59075d641b58483f86e6095d19ff5561",
       "version_major": 2,
       "version_minor": 0
      },
      "text/plain": [
       "FloatRangeSlider(value=(2.0, 8.0), continuous_update=False, description='Range Selector', max=10.0)"
      ]
     },
     "metadata": {},
     "output_type": "display_data"
    },
    {
     "data": {
      "application/vnd.jupyter.widget-view+json": {
       "model_id": "d5db5bb18ed646b1a097685801376784",
       "version_major": 2,
       "version_minor": 0
      },
      "text/plain": [
       "SelectMultiple(description='Multi Select', index=(0,), options=('Option A', 'Option B', 'Option C'), value=('O…"
      ]
     },
     "metadata": {},
     "output_type": "display_data"
    },
    {
     "data": {
      "application/vnd.jupyter.widget-view+json": {
       "model_id": "5b5b43b188604bf8947742b466bd902e",
       "version_major": 2,
       "version_minor": 0
      },
      "text/plain": [
       "HBox(children=(Label(value='Text Input'), Text(value='Default Text'), Button(description='Save', style=ButtonS…"
      ]
     },
     "metadata": {},
     "output_type": "display_data"
    },
    {
     "data": {
      "application/vnd.jupyter.widget-view+json": {
       "model_id": "8e9aca054c194723bd09250547ddb41f",
       "version_major": 2,
       "version_minor": 0
      },
      "text/plain": [
       "HBox(children=(Label(value='Text in Accordion'), Text(value='Text Value'), Button(description='Save', style=Bu…"
      ]
     },
     "metadata": {},
     "output_type": "display_data"
    },
    {
     "data": {
      "application/vnd.jupyter.widget-view+json": {
       "model_id": "5fc6aad9b11740eea94fe96367430db6",
       "version_major": 2,
       "version_minor": 0
      },
      "text/plain": [
       "IntSlider(value=3, description='Int in Accordion', max=10, min=1)"
      ]
     },
     "metadata": {},
     "output_type": "display_data"
    },
    {
     "data": {
      "application/vnd.jupyter.widget-view+json": {
       "model_id": "b372b7cfde8b4c5cae28cb8b2cea978f",
       "version_major": 2,
       "version_minor": 0
      },
      "text/plain": [
       "Accordion(children=(HBox(children=(Label(value='Text in Accordion'), Text(value='Text Value'), Button(descript…"
      ]
     },
     "metadata": {},
     "output_type": "display_data"
    },
    {
     "name": "stdout",
     "output_type": "stream",
     "text": [
      "Number of Items changed to 7\n",
      "Price changed to 19.99\n",
      "Enable Feature changed to True\n",
      "Choose Option changed to Option 2\n"
     ]
    }
   ],
   "source": [
    "from ipywidgets import widgets\n",
    "from cc3d.core.GraphicsUtils.JupyterWidgetInterface import JupyterWidgetInterface\n",
    "from IPython.display import display\n",
    "\n",
    "# Create an instance of JupyterWidgetInterface\n",
    "widget_interface = JupyterWidgetInterface()\n",
    "\n",
    "# Define a callback function for handling widget interactions\n",
    "def on_value_change(keyname, new_value):\n",
    "    print(f\"{keyname} changed to {new_value}\")\n",
    "\n",
    "# Add an integer slider\n",
    "widget_interface.add_int(\"Number of Items\", value=5, min=1, max=10, callback=on_value_change)\n",
    "\n",
    "# Add a float input\n",
    "widget_interface.add_float(\"Price\", value=9.99, callback=on_value_change)\n",
    "\n",
    "# Add a toggle button\n",
    "widget_interface.add_toggle(\"Enable Feature\", value=False, callback=on_value_change)\n",
    "\n",
    "# Add a dropdown select\n",
    "widget_interface.add_select(\"Choose Option\", options=[\"Option 1\", \"Option 2\", \"Option 3\"], callback=on_value_change)\n",
    "\n",
    "# Add a button\n",
    "def on_button_click(keyname):\n",
    "    print(f\"{keyname} button clicked\")\n",
    "\n",
    "widget_interface.add_button(\"Submit\", callback=on_button_click)\n",
    "\n",
    "# Add a color picker\n",
    "widget_interface.add_color(\"Select Color\", value='#00ff00', callback=on_value_change)\n",
    "\n",
    "# Add a grid of toggle buttons\n",
    "widget_interface.add_grid(\"Toggle Grid\", rows=2, cols=2, value=True, callback=on_value_change)\n",
    "\n",
    "# Add an upload button\n",
    "def on_upload(keyname, new_value):\n",
    "    print(f\"File uploaded: {new_value}\")\n",
    "\n",
    "widget_interface.add_upload_button(\"Upload File\", accept='.txt', callback=on_upload)\n",
    "\n",
    "# Add a range slider\n",
    "widget_interface.add_range(\"Range Selector\", value=[2, 8], minf=0, maxf=10, step=0.1, callback=on_value_change)\n",
    "\n",
    "# Add a multi-select widget\n",
    "widget_interface.add_multiselect(\"Multi Select\", options=[\"Option A\", \"Option B\", \"Option C\"], value=[\"Option A\"], callback=on_value_change)\n",
    "\n",
    "# Add a text input field\n",
    "def on_text_change(new_value):\n",
    "    print(f\"Text input changed to: {new_value}\")\n",
    "\n",
    "widget_interface.add_text(\"Text Input\", value=\"Default Text\", callback=on_text_change)\n",
    "\n",
    "# Add an accordion widget\n",
    "text_widget = widget_interface.add_text(\"Text in Accordion\", value=\"Text Value\", callback=on_text_change)\n",
    "int_widget = widget_interface.add_int(\"Int in Accordion\", value=3, min=1, max=10, callback=on_value_change)\n",
    "widget_interface.add_accordion(\"Accordion\", [text_widget, int_widget], [\"Text Section\", \"Int Section\"])\n",
    "\n",
    "# Display all widgets\n",
    "for widget_data in widget_interface.data.values():\n",
    "    display(widget_data['widget'])\n",
    "\n",
    "# Example of updating values programmatically\n",
    "new_values = {\n",
    "    \"Number of Items\": 7,\n",
    "    \"Price\": 19.99,\n",
    "    \"Enable Feature\": True,\n",
    "    \"Choose Option\": \"Option 2\"\n",
    "}\n",
    "\n",
    "widget_interface.update_values(new_values)\n",
    "\n",
    "# Example of disabling a widget\n",
    "widget_interface.set_disabled(\"Number of Items\", value=True)\n",
    "\n",
    "# Example of disabling all widgets\n",
    "widget_interface.set_all_disabled(value=False)"
   ]
  },
  {
   "cell_type": "code",
   "execution_count": null,
   "id": "fd4b635b",
   "metadata": {},
   "outputs": [],
   "source": []
  }
 ],
 "metadata": {
  "kernelspec": {
   "display_name": "cc3d_env",
   "language": "python",
   "name": "python3"
  },
  "language_info": {
   "codemirror_mode": {
    "name": "ipython",
    "version": 3
   },
   "file_extension": ".py",
   "mimetype": "text/x-python",
   "name": "python",
   "nbconvert_exporter": "python",
   "pygments_lexer": "ipython3",
   "version": "3.10.14"
  }
 },
 "nbformat": 4,
 "nbformat_minor": 5
}
