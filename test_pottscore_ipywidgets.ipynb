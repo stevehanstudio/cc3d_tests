{
 "cells": [
  {
   "cell_type": "code",
   "execution_count": 1,
   "id": "618d09de",
   "metadata": {},
   "outputs": [
    {
     "name": "stdout",
     "output_type": "stream",
     "text": [
      "<Potts>\n",
      "   <Dimensions x=\"100\" y=\"100\" z=\"1\"/>\n",
      "   <Steps>10000</Steps>\n",
      "   <FluctuationAmplitude>10.0</FluctuationAmplitude>\n",
      "</Potts>\n",
      "\n"
     ]
    }
   ],
   "source": [
    "from cc3d.core.PyCoreSpecs import PottsCore\n",
    "\n",
    "# Create an instance of PottsCore with some basic parameters\n",
    "potts_core = PottsCore(\n",
    "    dim_x=100,  # x-dimension of the simulation domain\n",
    "    dim_y=100,  # y-dimension of the simulation domain\n",
    "    dim_z=1,    # z-dimension of the simulation domain\n",
    "    steps=10000, # number of simulation steps\n",
    "    fluctuation_amplitude=10.0, # fluctuation amplitude parameter\n",
    "    neighbor_order=1, # neighbor order of flip attempts\n",
    ")\n",
    "\n",
    "# Print the XML representation of the PottsCore object\n",
    "print(potts_core.xml.getCC3DXMLElementString())"
   ]
  },
  {
   "cell_type": "code",
   "execution_count": 2,
   "id": "7d9f80da",
   "metadata": {},
   "outputs": [
    {
     "data": {
      "application/vnd.jupyter.widget-view+json": {
       "model_id": "2b77accb8a854d0eb030cd6633274e20",
       "version_major": 2,
       "version_minor": 0
      },
      "text/plain": [
       "interactive(children=(IntSlider(value=100, description='Dim X:', max=200, min=1), IntSlider(value=100, descrip…"
      ]
     },
     "metadata": {},
     "output_type": "display_data"
    }
   ],
   "source": [
    "import ipywidgets as widgets\n",
    "from IPython.display import display\n",
    "from cc3d.core.PyCoreSpecs import PottsCore\n",
    "\n",
    "# Create widgets for each parameter\n",
    "dim_x_widget = widgets.IntSlider(value=100, min=1, max=200, step=1, description='Dim X:')\n",
    "dim_y_widget = widgets.IntSlider(value=100, min=1, max=200, step=1, description='Dim Y:')\n",
    "dim_z_widget = widgets.IntSlider(value=1, min=1, max=10, step=1, description='Dim Z:')\n",
    "steps_widget = widgets.IntSlider(value=10000, min=1, max=50000, step=100, description='Steps:')\n",
    "fluctuation_amplitude_widget = widgets.FloatSlider(value=10.0, min=0.1, max=50.0, step=0.1, description='Fluctuation Amplitude:')\n",
    "neighbor_order_widget = widgets.IntSlider(value=1, min=1, max=10, step=1, description='Neighbor Order:')\n",
    "\n",
    "# Function to create PottsCore instance and display its XML representation\n",
    "def create_potts_core(dim_x, dim_y, dim_z, steps, fluctuation_amplitude, neighbor_order):\n",
    "    potts_core = PottsCore(\n",
    "        dim_x=dim_x,\n",
    "        dim_y=dim_y,\n",
    "        dim_z=dim_z,\n",
    "        steps=steps,\n",
    "        fluctuation_amplitude=fluctuation_amplitude,\n",
    "        neighbor_order=neighbor_order\n",
    "    )\n",
    "    print(potts_core.xml.getCC3DXMLElementString())\n",
    "\n",
    "# Create an interactive widget\n",
    "interactive_widget = widgets.interactive(\n",
    "    create_potts_core,\n",
    "    dim_x=dim_x_widget,\n",
    "    dim_y=dim_y_widget,\n",
    "    dim_z=dim_z_widget,\n",
    "    steps=steps_widget,\n",
    "    fluctuation_amplitude=fluctuation_amplitude_widget,\n",
    "    neighbor_order=neighbor_order_widget\n",
    ")\n",
    "\n",
    "# Display the interactive widget\n",
    "display(interactive_widget)"
   ]
  },
  {
   "cell_type": "code",
   "execution_count": 3,
   "id": "18f9a8ad",
   "metadata": {},
   "outputs": [
    {
     "data": {
      "application/vnd.jupyter.widget-view+json": {
       "model_id": "0313714c48c44ea3a28d569435cdefae",
       "version_major": 2,
       "version_minor": 0
      },
      "text/plain": [
       "interactive(children=(IntSlider(value=100, description='Dim X:', max=200, min=1), IntSlider(value=100, descrip…"
      ]
     },
     "metadata": {},
     "output_type": "display_data"
    }
   ],
   "source": [
    "import ipywidgets as widgets\n",
    "from IPython.display import display\n",
    "from ipywidgets import interact\n",
    "from cc3d.core.PyCoreSpecs import PottsCore\n",
    "\n",
    "# Using the @interact decorator to create a dynamic function\n",
    "@interact(\n",
    "    dim_x=widgets.IntSlider(value=100, min=1, max=200, step=1, description='Dim X:'),\n",
    "    dim_y=widgets.IntSlider(value=100, min=1, max=200, step=1, description='Dim Y:'),\n",
    "    dim_z=widgets.IntSlider(value=1, min=1, max=10, step=1, description='Dim Z:'),\n",
    "    steps=widgets.IntSlider(value=10000, min=1, max=50000, step=100, description='Steps:'),\n",
    "    fluctuation_amplitude=widgets.FloatSlider(value=10.0, min=0.1, max=50.0, step=0.1, description='Fluctuation Amplitude:'),\n",
    "    neighbor_order=widgets.IntSlider(value=1, min=1, max=10, step=1, description='Neighbor Order:')\n",
    ")\n",
    "def create_potts_core(dim_x, dim_y, dim_z, steps, fluctuation_amplitude, neighbor_order):\n",
    "    potts_core = PottsCore(\n",
    "        dim_x=dim_x,\n",
    "        dim_y=dim_y,\n",
    "        dim_z=dim_z,\n",
    "        steps=steps,\n",
    "        fluctuation_amplitude=fluctuation_amplitude,\n",
    "        neighbor_order=neighbor_order\n",
    "    )\n",
    "    print(potts_core.xml.getCC3DXMLElementString())\n",
    "\n",
    "# The interactive controls are automatically displayed when the function is defined\n"
   ]
  },
  {
   "cell_type": "code",
   "execution_count": 4,
   "id": "ec94ab87",
   "metadata": {},
   "outputs": [
    {
     "data": {
      "application/vnd.jupyter.widget-view+json": {
       "model_id": "11c8cae6d2c64be894a23a2d995c7daf",
       "version_major": 2,
       "version_minor": 0
      },
      "text/plain": [
       "interactive(children=(IntSlider(value=100, description='Dim X:', max=200, min=1), IntSlider(value=100, descrip…"
      ]
     },
     "metadata": {},
     "output_type": "display_data"
    }
   ],
   "source": [
    "import ipywidgets as widgets\n",
    "from IPython.display import display\n",
    "from ipywidgets import interact\n",
    "from cc3d.core.PyCoreSpecs import PottsCore\n",
    "\n",
    "# Define interactive widgets\n",
    "dim_x_widget = widgets.IntSlider(value=100, min=1, max=200, step=1, description='Dim X:')\n",
    "dim_y_widget = widgets.IntSlider(value=100, min=1, max=200, step=1, description='Dim Y:')\n",
    "dim_z_widget = widgets.IntSlider(value=1, min=1, max=10, step=1, description='Dim Z:')\n",
    "\n",
    "# Use a radio button for selecting the neighbor order\n",
    "neighbor_order_widget = widgets.RadioButtons(\n",
    "    options=[1, 2, 3, 4, 5, 6, 7, 8, 9, 10],\n",
    "    value=1,\n",
    "    description='Neighbor Order:',\n",
    ")\n",
    "\n",
    "# Use an input box for steps\n",
    "steps_widget = widgets.IntText(\n",
    "    value=10000,\n",
    "    description='Steps:',\n",
    ")\n",
    "\n",
    "# Use a float slider for fluctuation amplitude\n",
    "fluctuation_amplitude_widget = widgets.FloatSlider(\n",
    "    value=10.0,\n",
    "    min=0.1,\n",
    "    max=50.0,\n",
    "    step=0.1,\n",
    "    description='Fluctuation Amplitude:',\n",
    ")\n",
    "\n",
    "# Use the @interact decorator to create a dynamic function\n",
    "@interact(\n",
    "    dim_x=dim_x_widget,\n",
    "    dim_y=dim_y_widget,\n",
    "    dim_z=dim_z_widget,\n",
    "    steps=steps_widget,\n",
    "    fluctuation_amplitude=fluctuation_amplitude_widget,\n",
    "    neighbor_order=neighbor_order_widget\n",
    ")\n",
    "def create_potts_core(dim_x, dim_y, dim_z, steps, fluctuation_amplitude, neighbor_order):\n",
    "    potts_core = PottsCore(\n",
    "        dim_x=dim_x,\n",
    "        dim_y=dim_y,\n",
    "        dim_z=dim_z,\n",
    "        steps=steps,\n",
    "        fluctuation_amplitude=fluctuation_amplitude,\n",
    "        neighbor_order=neighbor_order\n",
    "    )\n",
    "    print(potts_core.xml.getCC3DXMLElementString())\n",
    "\n",
    "# The interactive controls are automatically displayed when the function is defined\n"
   ]
  },
  {
   "cell_type": "code",
   "execution_count": 5,
   "id": "1e7b10e1",
   "metadata": {},
   "outputs": [
    {
     "data": {
      "application/vnd.jupyter.widget-view+json": {
       "model_id": "ec98e0462d47412bb7e2fde6ab52b414",
       "version_major": 2,
       "version_minor": 0
      },
      "text/plain": [
       "interactive(children=(IntSlider(value=100, description='Dim X:', max=200, min=1, style=SliderStyle(description…"
      ]
     },
     "metadata": {},
     "output_type": "display_data"
    }
   ],
   "source": [
    "import ipywidgets as widgets\n",
    "from IPython.display import display\n",
    "from ipywidgets import interact\n",
    "from cc3d.core.PyCoreSpecs import PottsCore\n",
    "\n",
    "# Define a color theme\n",
    "theme = {\n",
    "    'description_width': '150px',\n",
    "    'handle_color': 'lightblue',\n",
    "    'font_weight': 'bold'\n",
    "}\n",
    "\n",
    "# Using the @interact decorator to create a dynamic function\n",
    "@interact(\n",
    "    dim_x=widgets.IntSlider(value=100, min=1, max=200, step=1, description='Dim X:', style=theme),\n",
    "    dim_y=widgets.IntSlider(value=100, min=1, max=200, step=1, description='Dim Y:', style=theme),\n",
    "    dim_z=widgets.IntSlider(value=1, min=1, max=10, step=1, description='Dim Z:', style=theme),\n",
    "    steps=widgets.IntText(value=10000, description='Steps:', style=theme),\n",
    "    fluctuation_amplitude=widgets.FloatLogSlider(value=10.0, min=-1, max=3, step=0.1, base=10, description='Fluctuation Amplitude:', style=theme),\n",
    "    neighbor_order=widgets.Dropdown(options=[1, 2, 3, 4, 5, 6, 7, 8, 9, 10], value=1, description='Neighbor Order:', style=theme)\n",
    ")\n",
    "def create_potts_core(dim_x, dim_y, dim_z, steps, fluctuation_amplitude, neighbor_order):\n",
    "    potts_core = PottsCore(\n",
    "        dim_x=dim_x,\n",
    "        dim_y=dim_y,\n",
    "        dim_z=dim_z,\n",
    "        steps=steps,\n",
    "        fluctuation_amplitude=fluctuation_amplitude,\n",
    "        neighbor_order=neighbor_order\n",
    "    )\n",
    "    print(potts_core.xml.getCC3DXMLElementString())\n",
    "\n",
    "# The interactive controls are automatically displayed when the function is defined\n"
   ]
  },
  {
   "cell_type": "code",
   "execution_count": 6,
   "id": "8be30ca4",
   "metadata": {},
   "outputs": [
    {
     "data": {
      "application/vnd.jupyter.widget-view+json": {
       "model_id": "991d0d1fe6e34b0b93e2450534595c4e",
       "version_major": 2,
       "version_minor": 0
      },
      "text/plain": [
       "interactive(children=(IntSlider(value=64, description='Dim X:', max=200, min=1, style=SliderStyle(description_…"
      ]
     },
     "metadata": {},
     "output_type": "display_data"
    }
   ],
   "source": [
    "import ipywidgets as widgets\n",
    "from IPython.display import display\n",
    "from cc3d.core.PyCoreSpecs import PottsCore\n",
    "from xml.etree import ElementTree as ET\n",
    "\n",
    "# Load and parse the XML file\n",
    "xml_file_path = 'example.xml'\n",
    "tree = ET.parse(xml_file_path)\n",
    "root = tree.getroot()\n",
    "\n",
    "# Extract values from XML with checks for missing elements\n",
    "dim_x = int(root.find('Dimensions').get('x'))\n",
    "dim_y = int(root.find('Dimensions').get('y'))\n",
    "dim_z = int(root.find('Dimensions').get('z'))\n",
    "steps = int(root.find('Steps').text)\n",
    "\n",
    "# Check if FluctuationAmplitude exists, otherwise use a default value\n",
    "fluctuation_amplitude_element = root.find('FluctuationAmplitude')\n",
    "fluctuation_amplitude = float(fluctuation_amplitude_element.text) if fluctuation_amplitude_element is not None else 10.0\n",
    "\n",
    "# Check if NeighborOrder exists, otherwise use a default value\n",
    "neighbor_order_element = root.find('NeighborOrder')\n",
    "neighbor_order = int(neighbor_order_element.text) if neighbor_order_element is not None else 1\n",
    "\n",
    "# Define a color theme\n",
    "theme = {\n",
    "    'description_width': '150px',\n",
    "    'handle_color': 'lightblue',\n",
    "    'font_weight': 'bold'\n",
    "}\n",
    "\n",
    "# Create widgets for each parameter with custom styles and initial values from XML\n",
    "dim_x_widget = widgets.IntSlider(\n",
    "    value=dim_x,\n",
    "    min=1,\n",
    "    max=200,\n",
    "    step=1,\n",
    "    description='Dim X:',\n",
    "    style=theme\n",
    ")\n",
    "\n",
    "dim_y_widget = widgets.IntSlider(\n",
    "    value=dim_y,\n",
    "    min=1,\n",
    "    max=200,\n",
    "    step=1,\n",
    "    description='Dim Y:',\n",
    "    style=theme\n",
    ")\n",
    "\n",
    "dim_z_widget = widgets.IntSlider(\n",
    "    value=dim_z,\n",
    "    min=1,\n",
    "    max=10,\n",
    "    step=1,\n",
    "    description='Dim Z:',\n",
    "    style=theme\n",
    ")\n",
    "\n",
    "steps_widget = widgets.IntText(\n",
    "    value=steps,\n",
    "    description='Steps:',\n",
    "    style=theme\n",
    ")\n",
    "\n",
    "fluctuation_amplitude_widget = widgets.FloatLogSlider(\n",
    "    value=fluctuation_amplitude,\n",
    "    min=-1,\n",
    "    max=3,\n",
    "    step=0.1,\n",
    "    base=10,\n",
    "    description='Fluctuation Amplitude:',\n",
    "    style=theme\n",
    ")\n",
    "\n",
    "neighbor_order_widget = widgets.Dropdown(\n",
    "    options=[1, 2, 3, 4, 5, 6, 7, 8, 9, 10],\n",
    "    value=neighbor_order,\n",
    "    description='Neighbor Order:',\n",
    "    style=theme\n",
    ")\n",
    "\n",
    "# Function to create PottsCore instance and display its XML representation\n",
    "def create_potts_core(dim_x, dim_y, dim_z, steps, fluctuation_amplitude, neighbor_order):\n",
    "    potts_core = PottsCore(\n",
    "        dim_x=dim_x,\n",
    "        dim_y=dim_y,\n",
    "        dim_z=dim_z,\n",
    "        steps=steps,\n",
    "        fluctuation_amplitude=fluctuation_amplitude,\n",
    "        neighbor_order=neighbor_order\n",
    "    )\n",
    "    print(potts_core.xml.getCC3DXMLElementString())\n",
    "\n",
    "# Create an interactive widget with the initial values from XML\n",
    "interactive_widget = widgets.interactive(\n",
    "    create_potts_core,\n",
    "    dim_x=dim_x_widget,\n",
    "    dim_y=dim_y_widget,\n",
    "    dim_z=dim_z_widget,\n",
    "    steps=steps_widget,\n",
    "    fluctuation_amplitude=fluctuation_amplitude_widget,\n",
    "    neighbor_order=neighbor_order_widget\n",
    ")\n",
    "\n",
    "# Display the interactive widget\n",
    "display(interactive_widget)\n"
   ]
  },
  {
   "cell_type": "code",
   "execution_count": 7,
   "id": "9fb2f2e8",
   "metadata": {},
   "outputs": [
    {
     "ename": "ImportError",
     "evalue": "cannot import name 'PyCoreSpecs' from 'cc3d.core.PyCoreSpecs' (/home/steve/miniconda3/envs/cc3d_env/lib/python3.10/site-packages/cc3d/core/PyCoreSpecs.py)",
     "output_type": "error",
     "traceback": [
      "\u001b[0;31m---------------------------------------------------------------------------\u001b[0m",
      "\u001b[0;31mImportError\u001b[0m                               Traceback (most recent call last)",
      "Cell \u001b[0;32mIn[7], line 1\u001b[0m\n\u001b[0;32m----> 1\u001b[0m \u001b[38;5;28;01mfrom\u001b[39;00m\u001b[38;5;250m \u001b[39m\u001b[38;5;21;01mcc3d\u001b[39;00m\u001b[38;5;21;01m.\u001b[39;00m\u001b[38;5;21;01mcore\u001b[39;00m\u001b[38;5;21;01m.\u001b[39;00m\u001b[38;5;21;01mPyCoreSpecs\u001b[39;00m\u001b[38;5;250m \u001b[39m\u001b[38;5;28;01mimport\u001b[39;00m PyCoreSpecs\n\u001b[1;32m      3\u001b[0m \u001b[38;5;28;01mdef\u001b[39;00m\u001b[38;5;250m \u001b[39m\u001b[38;5;21mload_simulation_from_xml\u001b[39m(xml_file_path):\n\u001b[1;32m      4\u001b[0m     \u001b[38;5;66;03m# Create a PyCoreSpecs object\u001b[39;00m\n\u001b[1;32m      5\u001b[0m     core_specs \u001b[38;5;241m=\u001b[39m PyCoreSpecs()\n",
      "\u001b[0;31mImportError\u001b[0m: cannot import name 'PyCoreSpecs' from 'cc3d.core.PyCoreSpecs' (/home/steve/miniconda3/envs/cc3d_env/lib/python3.10/site-packages/cc3d/core/PyCoreSpecs.py)"
     ]
    }
   ],
   "source": [
    "from cc3d.core.PyCoreSpecs import PyCoreSpecs\n",
    "\n",
    "def load_simulation_from_xml(xml_file_path):\n",
    "    # Create a PyCoreSpecs object\n",
    "    core_specs = PyCoreSpecs()\n",
    "\n",
    "    # Use the from_xml function to load the simulation specifications from an XML file\n",
    "    core_specs.from_xml(xml_file_path)\n",
    "\n",
    "    # Now you can work with the core_specs object, which contains the loaded simulation specifications\n",
    "    print(\"Simulation specifications loaded successfully from:\", xml_file_path)\n",
    "\n",
    "# Example usage\n",
    "xml_file_path = 'example.xml'\n",
    "load_simulation_from_xml(xml_file_path)\n"
   ]
  },
  {
   "cell_type": "code",
   "execution_count": null,
   "id": "5e64faff",
   "metadata": {},
   "outputs": [
    {
     "ename": "SpecValueError",
     "evalue": "Type name None already specified",
     "output_type": "error",
     "traceback": [
      "\u001b[1;31m---------------------------------------------------------------------------\u001b[0m",
      "\u001b[1;31mSpecValueError\u001b[0m                            Traceback (most recent call last)",
      "Cell \u001b[1;32mIn[2], line 8\u001b[0m\n\u001b[0;32m      5\u001b[0m sim, sim_path \u001b[38;5;241m=\u001b[39m CompuCellSetup\u001b[38;5;241m.\u001b[39mgetCoreSimulationObjects()\n\u001b[0;32m      7\u001b[0m \u001b[38;5;66;03m# Define cell types\u001b[39;00m\n\u001b[1;32m----> 8\u001b[0m cell_type_plugin \u001b[38;5;241m=\u001b[39m \u001b[43mCellTypePlugin\u001b[49m\u001b[43m(\u001b[49m\u001b[43msim\u001b[49m\u001b[43m,\u001b[49m\u001b[43m \u001b[49m\u001b[43msim_path\u001b[49m\u001b[43m)\u001b[49m\n\u001b[0;32m      9\u001b[0m cell_type_plugin\u001b[38;5;241m.\u001b[39maddCellType(\u001b[38;5;124m\"\u001b[39m\u001b[38;5;124mMedium\u001b[39m\u001b[38;5;124m\"\u001b[39m)\n\u001b[0;32m     10\u001b[0m cell_type_plugin\u001b[38;5;241m.\u001b[39maddCellType(\u001b[38;5;124m\"\u001b[39m\u001b[38;5;124mCellTypeA\u001b[39m\u001b[38;5;124m\"\u001b[39m)\n",
      "File \u001b[1;32ma:\\conda_envs\\cc3d_env\\lib\\site-packages\\cc3d\\core\\PyCoreSpecs.py:1809\u001b[0m, in \u001b[0;36mCellTypePlugin.__init__\u001b[1;34m(self, *_cell_types)\u001b[0m\n\u001b[0;32m   1805\u001b[0m \u001b[38;5;28msuper\u001b[39m()\u001b[38;5;241m.\u001b[39m\u001b[38;5;21m__init__\u001b[39m()\n\u001b[0;32m   1807\u001b[0m \u001b[38;5;28mself\u001b[39m\u001b[38;5;241m.\u001b[39mspec_dict \u001b[38;5;241m=\u001b[39m {\u001b[38;5;124m\"\u001b[39m\u001b[38;5;124mcell_types\u001b[39m\u001b[38;5;124m\"\u001b[39m: [(\u001b[38;5;124m\"\u001b[39m\u001b[38;5;124mMedium\u001b[39m\u001b[38;5;124m\"\u001b[39m, \u001b[38;5;241m0\u001b[39m, \u001b[38;5;28;01mFalse\u001b[39;00m)]}\n\u001b[1;32m-> 1809\u001b[0m [\u001b[38;5;28mself\u001b[39m\u001b[38;5;241m.\u001b[39mcell_type_append(_ct) \u001b[38;5;28;01mfor\u001b[39;00m _ct \u001b[38;5;129;01min\u001b[39;00m _cell_types]\n",
      "File \u001b[1;32ma:\\conda_envs\\cc3d_env\\lib\\site-packages\\cc3d\\core\\PyCoreSpecs.py:1809\u001b[0m, in \u001b[0;36m<listcomp>\u001b[1;34m(.0)\u001b[0m\n\u001b[0;32m   1805\u001b[0m \u001b[38;5;28msuper\u001b[39m()\u001b[38;5;241m.\u001b[39m\u001b[38;5;21m__init__\u001b[39m()\n\u001b[0;32m   1807\u001b[0m \u001b[38;5;28mself\u001b[39m\u001b[38;5;241m.\u001b[39mspec_dict \u001b[38;5;241m=\u001b[39m {\u001b[38;5;124m\"\u001b[39m\u001b[38;5;124mcell_types\u001b[39m\u001b[38;5;124m\"\u001b[39m: [(\u001b[38;5;124m\"\u001b[39m\u001b[38;5;124mMedium\u001b[39m\u001b[38;5;124m\"\u001b[39m, \u001b[38;5;241m0\u001b[39m, \u001b[38;5;28;01mFalse\u001b[39;00m)]}\n\u001b[1;32m-> 1809\u001b[0m [\u001b[38;5;28;43mself\u001b[39;49m\u001b[38;5;241;43m.\u001b[39;49m\u001b[43mcell_type_append\u001b[49m\u001b[43m(\u001b[49m\u001b[43m_ct\u001b[49m\u001b[43m)\u001b[49m \u001b[38;5;28;01mfor\u001b[39;00m _ct \u001b[38;5;129;01min\u001b[39;00m _cell_types]\n",
      "File \u001b[1;32ma:\\conda_envs\\cc3d_env\\lib\\site-packages\\cc3d\\core\\PyCoreSpecs.py:1894\u001b[0m, in \u001b[0;36mCellTypePlugin.cell_type_append\u001b[1;34m(self, _name, type_id, frozen)\u001b[0m\n\u001b[0;32m   1892\u001b[0m         \u001b[38;5;28;01mreturn\u001b[39;00m\n\u001b[0;32m   1893\u001b[0m     \u001b[38;5;28;01melse\u001b[39;00m:\n\u001b[1;32m-> 1894\u001b[0m         \u001b[38;5;28;01mraise\u001b[39;00m SpecValueError(\u001b[38;5;124mf\u001b[39m\u001b[38;5;124m\"\u001b[39m\u001b[38;5;124mType name \u001b[39m\u001b[38;5;132;01m{\u001b[39;00m_name\u001b[38;5;132;01m}\u001b[39;00m\u001b[38;5;124m already specified\u001b[39m\u001b[38;5;124m\"\u001b[39m)\n\u001b[0;32m   1896\u001b[0m \u001b[38;5;28;01mif\u001b[39;00m type_id \u001b[38;5;129;01mis\u001b[39;00m \u001b[38;5;129;01mnot\u001b[39;00m \u001b[38;5;28;01mNone\u001b[39;00m:\n\u001b[0;32m   1897\u001b[0m     \u001b[38;5;28;01mif\u001b[39;00m type_id \u001b[38;5;129;01min\u001b[39;00m \u001b[38;5;28mself\u001b[39m\u001b[38;5;241m.\u001b[39mcell_type_ids:\n",
      "\u001b[1;31mSpecValueError\u001b[0m: Type name None already specified"
     ]
    }
   ],
   "source": [
    "from cc3d import CompuCellSetup\n",
    "from cc3d.core.PyCoreSpecs import CellTypePlugin, VolumePlugin, ContactPlugin, PottsCore\n",
    "\n",
    "# Create a new simulation project\n",
    "sim, sim_path = CompuCellSetup.getCoreSimulationObjects()\n",
    "\n",
    "# Define cell types\n",
    "cell_type_plugin = CellTypePlugin(sim, sim_path)\n",
    "cell_type_plugin.addCellType(\"Medium\")\n",
    "cell_type_plugin.addCellType(\"CellTypeA\")\n",
    "\n",
    "# Define cell field dimensions using PottsCore\n",
    "dim_x, dim_y, dim_z = 100, 100, 1  # 2D simulation\n",
    "potts_core = PottsCore(sim, sim_path, dim_x, dim_y, dim_z)\n",
    "\n",
    "# Add some cells to the simulation\n",
    "for i in range(10):\n",
    "    x, y, z = 50, 50, 0\n",
    "    potts_core.addCell(x, y, z, \"CellTypeA\")\n",
    "\n",
    "# Add volume constraint\n",
    "volume_plugin = VolumePlugin(sim, sim_path)\n",
    "volume_plugin.addVolumeData(\"CellTypeA\", 25, 50)\n",
    "\n",
    "# Add contact energy\n",
    "contact_plugin = ContactPlugin(sim, sim_path)\n",
    "contact_plugin.addEnergy(\"CellTypeA\", \"CellTypeA\", 16)\n",
    "contact_plugin.addEnergy(\"CellTypeA\", \"Medium\", 16)\n",
    "\n",
    "# Run the simulation\n",
    "CompuCellSetup.runSimulation(sim, sim_path)"
   ]
  },
  {
   "cell_type": "code",
   "execution_count": null,
   "id": "659bfb48",
   "metadata": {},
   "outputs": [
    {
     "ename": "AttributeError",
     "evalue": "'CC3DSimService' object has no attribute '_in_jupyter'",
     "output_type": "error",
     "traceback": [
      "\u001b[1;31m---------------------------------------------------------------------------\u001b[0m",
      "\u001b[1;31mAttributeError\u001b[0m                            Traceback (most recent call last)",
      "Cell \u001b[1;32mIn[37], line 6\u001b[0m\n\u001b[0;32m      3\u001b[0m \u001b[38;5;66;03m# Initialize the simulation service\u001b[39;00m\n\u001b[0;32m      4\u001b[0m cc3d_sim \u001b[38;5;241m=\u001b[39m CC3DSimService(cc3d_sim_fname\u001b[38;5;241m=\u001b[39m\u001b[38;5;124m'\u001b[39m\u001b[38;5;124mexample.xml\u001b[39m\u001b[38;5;124m'\u001b[39m)\n\u001b[1;32m----> 6\u001b[0m \u001b[38;5;28mprint\u001b[39m(\u001b[43mcc3d_sim\u001b[49m\u001b[38;5;241;43m.\u001b[39;49m\u001b[43m_in_jupyter\u001b[49m())\n\u001b[0;32m      8\u001b[0m \u001b[38;5;66;03m# Run the simulation\u001b[39;00m\n\u001b[0;32m      9\u001b[0m \u001b[38;5;66;03m# cc3d_sim.run()\u001b[39;00m\n\u001b[0;32m     10\u001b[0m \n\u001b[1;32m   (...)\u001b[0m\n\u001b[0;32m     14\u001b[0m \u001b[38;5;66;03m# Display a toggle button to pause/resume the simulation\u001b[39;00m\n\u001b[0;32m     15\u001b[0m \u001b[38;5;66;03m# display(cc3d_sim.jupyter_run_button())\u001b[39;00m\n",
      "\u001b[1;31mAttributeError\u001b[0m: 'CC3DSimService' object has no attribute '_in_jupyter'"
     ]
    }
   ],
   "source": [
    "from cc3d.CompuCellSetup.CC3DCaller import CC3DSimService\n",
    "\n",
    "# Initialize the simulation service\n",
    "cc3d_sim = CC3DSimService(cc3d_sim_fname='example.xml')\n",
    "\n",
    "print(cc3d_sim._in_jupyter())\n",
    "\n",
    "# Run the simulation\n",
    "# cc3d_sim.run()\n",
    "\n",
    "# Visualize the simulation\n",
    "# cc3d_sim.visualize()\n",
    "\n",
    "# Display a toggle button to pause/resume the simulation\n",
    "# display(cc3d_sim.jupyter_run_button())"
   ]
  },
  {
   "cell_type": "code",
   "execution_count": null,
   "id": "2e8f4298",
   "metadata": {},
   "outputs": [
    {
     "ename": "RuntimeError",
     "evalue": "Simulator not set",
     "output_type": "error",
     "traceback": [
      "\u001b[1;31m---------------------------------------------------------------------------\u001b[0m",
      "\u001b[1;31mRuntimeError\u001b[0m                              Traceback (most recent call last)",
      "Cell \u001b[1;32mIn[40], line 7\u001b[0m\n\u001b[0;32m      4\u001b[0m cc3d_sim \u001b[38;5;241m=\u001b[39m CC3DSimService()\n\u001b[0;32m      5\u001b[0m cc3d_sim\u001b[38;5;241m.\u001b[39mregister_specs(specs)\n\u001b[1;32m----> 7\u001b[0m frame_field1 \u001b[38;5;241m=\u001b[39m \u001b[43mcc3d_sim\u001b[49m\u001b[38;5;241;43m.\u001b[39;49m\u001b[43mvisualize\u001b[49m\u001b[43m(\u001b[49m\u001b[43m)\u001b[49m\n\u001b[0;32m      8\u001b[0m frame_field2 \u001b[38;5;241m=\u001b[39m cc3d_sim\u001b[38;5;241m.\u001b[39mvisualize()\n\u001b[0;32m      9\u001b[0m frame_field1\u001b[38;5;241m.\u001b[39mset_field_name(\u001b[38;5;124m'\u001b[39m\u001b[38;5;124mMyField1\u001b[39m\u001b[38;5;124m'\u001b[39m)  \u001b[38;5;66;03m# optional; field can also be set through the control panel\u001b[39;00m\n",
      "File \u001b[1;32ma:\\conda_envs\\cc3d_env\\lib\\site-packages\\cc3d\\core\\simservice\\CC3DSimService.py:340\u001b[0m, in \u001b[0;36mCC3DSimService.visualize\u001b[1;34m(self, plot_freq, name, fps, config_fp, blocking, timeout, drawing_style)\u001b[0m\n\u001b[0;32m    337\u001b[0m \u001b[38;5;28;01melse\u001b[39;00m:\n\u001b[0;32m    338\u001b[0m     frame \u001b[38;5;241m=\u001b[39m CC3DPyGraphicsFrameClient(name\u001b[38;5;241m=\u001b[39mname, fps\u001b[38;5;241m=\u001b[39mfps, config_fp\u001b[38;5;241m=\u001b[39mconfig_fp)\n\u001b[1;32m--> 340\u001b[0m \u001b[38;5;28;01mreturn\u001b[39;00m \u001b[38;5;28;43mself\u001b[39;49m\u001b[38;5;241;43m.\u001b[39;49m\u001b[43m_load_viz_frame\u001b[49m\u001b[43m(\u001b[49m\u001b[43mframe\u001b[49m\u001b[38;5;241;43m=\u001b[39;49m\u001b[43mframe\u001b[49m\u001b[43m,\u001b[49m\n\u001b[0;32m    341\u001b[0m \u001b[43m                            \u001b[49m\u001b[43mplot_freq\u001b[49m\u001b[38;5;241;43m=\u001b[39;49m\u001b[43mplot_freq\u001b[49m\u001b[43m,\u001b[49m\n\u001b[0;32m    342\u001b[0m \u001b[43m                            \u001b[49m\u001b[43mblocking\u001b[49m\u001b[38;5;241;43m=\u001b[39;49m\u001b[43mblocking\u001b[49m\u001b[43m,\u001b[49m\n\u001b[0;32m    343\u001b[0m \u001b[43m                            \u001b[49m\u001b[43mtimeout\u001b[49m\u001b[38;5;241;43m=\u001b[39;49m\u001b[43mtimeout\u001b[49m\u001b[43m,\u001b[49m\n\u001b[0;32m    344\u001b[0m \u001b[43m                            \u001b[49m\u001b[43mdrawing_style\u001b[49m\u001b[38;5;241;43m=\u001b[39;49m\u001b[43mdrawing_style\u001b[49m\u001b[43m)\u001b[49m\n",
      "File \u001b[1;32ma:\\conda_envs\\cc3d_env\\lib\\site-packages\\cc3d\\core\\simservice\\CC3DSimService.py:297\u001b[0m, in \u001b[0;36mCC3DSimService._load_viz_frame\u001b[1;34m(self, frame, plot_freq, blocking, timeout, drawing_style)\u001b[0m\n\u001b[0;32m    293\u001b[0m frame\u001b[38;5;241m.\u001b[39madd_callback_close(_on_frame_close)\n\u001b[0;32m    294\u001b[0m \u001b[38;5;28mself\u001b[39m\u001b[38;5;241m.\u001b[39m_graphics_frames\u001b[38;5;241m.\u001b[39mappend(GraphicsFrameContainer(frame\u001b[38;5;241m=\u001b[39mframe,\n\u001b[0;32m    295\u001b[0m                                                     plot_freq\u001b[38;5;241m=\u001b[39mplot_freq,\n\u001b[0;32m    296\u001b[0m                                                     blocking\u001b[38;5;241m=\u001b[39mblocking))\n\u001b[1;32m--> 297\u001b[0m return_obj \u001b[38;5;241m=\u001b[39m \u001b[43mframe\u001b[49m\u001b[38;5;241;43m.\u001b[39;49m\u001b[43mlaunch\u001b[49m\u001b[43m(\u001b[49m\u001b[43mtimeout\u001b[49m\u001b[38;5;241;43m=\u001b[39;49m\u001b[43mtimeout\u001b[49m\u001b[43m)\u001b[49m\n\u001b[0;32m    299\u001b[0m \u001b[38;5;28;01mif\u001b[39;00m drawing_style \u001b[38;5;129;01mis\u001b[39;00m \u001b[38;5;129;01mnot\u001b[39;00m \u001b[38;5;28;01mNone\u001b[39;00m:\n\u001b[0;32m    300\u001b[0m     frame\u001b[38;5;241m.\u001b[39mset_drawing_style(_style\u001b[38;5;241m=\u001b[39mdrawing_style)\n",
      "File \u001b[1;32ma:\\conda_envs\\cc3d_env\\lib\\site-packages\\cc3d\\core\\GraphicsUtils\\JupyterGraphicsFrameWidget.py:543\u001b[0m, in \u001b[0;36mJupyterGraphicsFrameClient.launch\u001b[1;34m(self, timeout)\u001b[0m\n\u001b[0;32m    531\u001b[0m \u001b[38;5;28;01mdef\u001b[39;00m\u001b[38;5;250m \u001b[39m\u001b[38;5;21mlaunch\u001b[39m(\u001b[38;5;28mself\u001b[39m, timeout: \u001b[38;5;28mfloat\u001b[39m \u001b[38;5;241m=\u001b[39m \u001b[38;5;28;01mNone\u001b[39;00m):\n\u001b[0;32m    532\u001b[0m \u001b[38;5;250m    \u001b[39m\u001b[38;5;124;03m\"\"\"\u001b[39;00m\n\u001b[0;32m    533\u001b[0m \u001b[38;5;124;03m    Launches the graphics frame process and blocks until startup completes.\u001b[39;00m\n\u001b[0;32m    534\u001b[0m \n\u001b[1;32m   (...)\u001b[0m\n\u001b[0;32m    540\u001b[0m \u001b[38;5;124;03m    :rtype: Any or None\u001b[39;00m\n\u001b[0;32m    541\u001b[0m \u001b[38;5;124;03m    \"\"\"\u001b[39;00m\n\u001b[1;32m--> 543\u001b[0m     \u001b[38;5;28mself\u001b[39m\u001b[38;5;241m.\u001b[39mframe \u001b[38;5;241m=\u001b[39m \u001b[43mJupyterGraphicsFrame\u001b[49m\u001b[43m(\u001b[49m\u001b[43m)\u001b[49m\n\u001b[0;32m    544\u001b[0m     \u001b[38;5;28mself\u001b[39m\u001b[38;5;241m.\u001b[39mframe\u001b[38;5;241m.\u001b[39mgd\u001b[38;5;241m.\u001b[39mget_renderer()\u001b[38;5;241m.\u001b[39mResetCamera()\n\u001b[0;32m    546\u001b[0m     \u001b[38;5;28mself\u001b[39m\u001b[38;5;241m.\u001b[39mwidget \u001b[38;5;241m=\u001b[39m CC3DViewInteractiveWidget(frame\u001b[38;5;241m=\u001b[39m\u001b[38;5;28mself\u001b[39m\u001b[38;5;241m.\u001b[39mframe,\n\u001b[0;32m    547\u001b[0m                                             render_window\u001b[38;5;241m=\u001b[39m\u001b[38;5;28mself\u001b[39m\u001b[38;5;241m.\u001b[39mframe\u001b[38;5;241m.\u001b[39mrenWin)\n",
      "File \u001b[1;32ma:\\conda_envs\\cc3d_env\\lib\\site-packages\\cc3d\\core\\GraphicsUtils\\JupyterGraphicsFrameWidget.py:184\u001b[0m, in \u001b[0;36mJupyterGraphicsFrame.__init__\u001b[1;34m(self)\u001b[0m\n\u001b[0;32m    182\u001b[0m pg \u001b[38;5;241m=\u001b[39m cc3d\u001b[38;5;241m.\u001b[39mCompuCellSetup\u001b[38;5;241m.\u001b[39mpersistent_globals\n\u001b[0;32m    183\u001b[0m \u001b[38;5;28;01mif\u001b[39;00m pg\u001b[38;5;241m.\u001b[39msimulator \u001b[38;5;129;01mis\u001b[39;00m \u001b[38;5;28;01mNone\u001b[39;00m:\n\u001b[1;32m--> 184\u001b[0m     \u001b[38;5;28;01mraise\u001b[39;00m \u001b[38;5;167;01mRuntimeError\u001b[39;00m(\u001b[38;5;124m'\u001b[39m\u001b[38;5;124mSimulator not set\u001b[39m\u001b[38;5;124m'\u001b[39m)\n\u001b[0;32m    185\u001b[0m \u001b[38;5;28;01melif\u001b[39;00m pg\u001b[38;5;241m.\u001b[39mscreenshot_manager \u001b[38;5;129;01mis\u001b[39;00m \u001b[38;5;28;01mNone\u001b[39;00m:\n\u001b[0;32m    186\u001b[0m     \u001b[38;5;28;01mraise\u001b[39;00m \u001b[38;5;167;01mRuntimeError\u001b[39;00m(\u001b[38;5;124m'\u001b[39m\u001b[38;5;124mScreenshot manager not set\u001b[39m\u001b[38;5;124m'\u001b[39m)\n",
      "\u001b[1;31mRuntimeError\u001b[0m: Simulator not set"
     ]
    }
   ],
   "source": [
    "from cc3d.CompuCellSetup.CC3DCaller import CC3DSimService\n",
    "from cc3d.core.GraphicsUtils.JupyterGraphicsFrameWidget import CC3DJupyterGraphicsFrameGrid\n",
    "\n",
    "cc3d_sim = CC3DSimService()\n",
    "cc3d_sim.register_specs([potts_specs, cell_type_specs, volume_specs, contact_specs, blob_init_specs])\n",
    "\n",
    "frame_field1 = cc3d_sim.visualize()\n",
    "frame_field2 = cc3d_sim.visualize()\n",
    "frame_field1.set_field_name('MyField1')  # optional; field can also be set through the control panel\n",
    "frame_field2.set_field_name('MyField2')  # optional; field can also be set through the control panel\n",
    "\n",
    "frame_grid = CC3DJupyterGraphicsFrameGrid(rows=1, cols=2) # 1x2 grid\n",
    "frame_grid.set_frame(frame_field1, 0, 0)  #  left frame\n",
    "frame_grid.set_frame(frame_field2, 0, 1)  # right frame\n",
    "\n",
    "frame_grid.control_panel()  # optional; show graphical interface for interacting with simulation\n",
    "\n",
    "frame_grid.show() # show the frame grid widget"
   ]
  },
  {
   "cell_type": "code",
   "execution_count": null,
   "id": "aeab251c",
   "metadata": {},
   "outputs": [
    {
     "ename": "ImportError",
     "evalue": "cannot import name 'CompuCell' from 'cc3d' (a:\\conda_envs\\cc3d_env\\lib\\site-packages\\cc3d\\__init__.py)",
     "output_type": "error",
     "traceback": [
      "\u001b[1;31m---------------------------------------------------------------------------\u001b[0m",
      "\u001b[1;31mImportError\u001b[0m                               Traceback (most recent call last)",
      "Cell \u001b[1;32mIn[43], line 2\u001b[0m\n\u001b[0;32m      1\u001b[0m \u001b[38;5;28;01mfrom\u001b[39;00m\u001b[38;5;250m \u001b[39m\u001b[38;5;21;01mcc3d\u001b[39;00m\u001b[38;5;21;01m.\u001b[39;00m\u001b[38;5;21;01mCompuCellSetup\u001b[39;00m\u001b[38;5;250m \u001b[39m\u001b[38;5;28;01mimport\u001b[39;00m CompuCellSetup\n\u001b[1;32m----> 2\u001b[0m \u001b[38;5;28;01mfrom\u001b[39;00m\u001b[38;5;250m \u001b[39m\u001b[38;5;21;01mcc3d\u001b[39;00m\u001b[38;5;250m \u001b[39m\u001b[38;5;28;01mimport\u001b[39;00m CompuCell\n\u001b[0;32m      3\u001b[0m \u001b[38;5;28;01mfrom\u001b[39;00m\u001b[38;5;250m \u001b[39m\u001b[38;5;21;01mcc3d\u001b[39;00m\u001b[38;5;21;01m.\u001b[39;00m\u001b[38;5;21;01mcore\u001b[39;00m\u001b[38;5;250m \u001b[39m\u001b[38;5;28;01mimport\u001b[39;00m XMLUtils\n\u001b[0;32m      4\u001b[0m \u001b[38;5;28;01mfrom\u001b[39;00m\u001b[38;5;250m \u001b[39m\u001b[38;5;21;01mcc3d\u001b[39;00m\u001b[38;5;21;01m.\u001b[39;00m\u001b[38;5;21;01mCompuCellSetup\u001b[39;00m\u001b[38;5;250m \u001b[39m\u001b[38;5;28;01mimport\u001b[39;00m persistent_globals \u001b[38;5;28;01mas\u001b[39;00m pg\n",
      "\u001b[1;31mImportError\u001b[0m: cannot import name 'CompuCell' from 'cc3d' (a:\\conda_envs\\cc3d_env\\lib\\site-packages\\cc3d\\__init__.py)"
     ]
    }
   ],
   "source": [
    "from cc3d.CompuCellSetup import CompuCellSetup\n",
    "from cc3d import CompuCell\n",
    "from cc3d.core import XMLUtils\n",
    "from cc3d.CompuCellSetup import persistent_globals as pg\n",
    "\n",
    "# Create a new simulation\n",
    "sim, sim_path = CompuCellSetup.getCoreSimulationObjects()\n",
    "\n",
    "# Define basic simulation parameters\n",
    "CompuCellSetup.setSimulationDimensions(dim_x=100, dim_y=100, dim_z=1)\n",
    "CompuCellSetup.setRunSteps(1000)\n",
    "\n",
    "# Define cell types\n",
    "cell_type_plugin = CompuCellSetup.getCellTypePlugin()\n",
    "cell_type_plugin.addCellType(\"Medium\", 0)\n",
    "cell_type_plugin.addCellType(\"Cell\", 1)\n",
    "\n",
    "# Define a Volume Plugin\n",
    "volume_plugin = CompuCellSetup.getVolumePlugin()\n",
    "volume_plugin.addCellType(\"Cell\", 25, 0.2)\n",
    "\n",
    "# Create a custom steppable\n",
    "class CustomSteppable(CompuCell.SteppablePy):\n",
    "    def __init__(self, frequency=1):\n",
    "        CompuCell.SteppablePy.__init__(self, frequency)\n",
    "\n",
    "    def step(self, mcs):\n",
    "        print(f\"Executing step {mcs}\")\n",
    "\n",
    "# Register the custom steppable\n",
    "custom_steppable = CustomSteppable(frequency=10)\n",
    "CompuCellSetup.registerSteppable(custom_steppable)\n",
    "\n",
    "# Run the simulation\n",
    "CompuCellSetup.run()\n",
    "\n",
    "# Visualize the simulation\n",
    "CompuCellSetup.visualize()\n"
   ]
  },
  {
   "cell_type": "code",
   "execution_count": null,
   "id": "228c71d8",
   "metadata": {},
   "outputs": [
    {
     "ename": "ModuleNotFoundError",
     "evalue": "No module named 'simulation_framework'",
     "output_type": "error",
     "traceback": [
      "\u001b[1;31m---------------------------------------------------------------------------\u001b[0m",
      "\u001b[1;31mModuleNotFoundError\u001b[0m                       Traceback (most recent call last)",
      "Cell \u001b[1;32mIn[42], line 2\u001b[0m\n\u001b[0;32m      1\u001b[0m \u001b[38;5;66;03m# Import necessary modules\u001b[39;00m\n\u001b[1;32m----> 2\u001b[0m \u001b[38;5;28;01mfrom\u001b[39;00m\u001b[38;5;250m \u001b[39m\u001b[38;5;21;01msimulation_framework\u001b[39;00m\u001b[38;5;250m \u001b[39m\u001b[38;5;28;01mimport\u001b[39;00m Simulation, CellTypePlugin, VolumePlugin, Steppable\n\u001b[0;32m      4\u001b[0m \u001b[38;5;66;03m# Create a simulation object\u001b[39;00m\n\u001b[0;32m      5\u001b[0m simulation \u001b[38;5;241m=\u001b[39m Simulation()\n",
      "File \u001b[1;32ma:\\conda_envs\\cc3d_env\\lib\\site-packages\\cc3d\\core\\RollbackImporter.py:71\u001b[0m, in \u001b[0;36mRollbackImporter._import\u001b[1;34m(self, name, globals, locals, fromlist, level)\u001b[0m\n\u001b[0;32m     68\u001b[0m                 level_import \u001b[38;5;241m=\u001b[39m \u001b[38;5;241m0\u001b[39m\n\u001b[0;32m     69\u001b[0m                 \u001b[38;5;28;01mbreak\u001b[39;00m\n\u001b[1;32m---> 71\u001b[0m result \u001b[38;5;241m=\u001b[39m \u001b[38;5;28;43mself\u001b[39;49m\u001b[38;5;241;43m.\u001b[39;49m\u001b[43mrealImport\u001b[49m\u001b[43m(\u001b[49m\u001b[38;5;241;43m*\u001b[39;49m\u001b[43m(\u001b[49m\u001b[43mname\u001b[49m\u001b[43m,\u001b[49m\u001b[43m \u001b[49m\u001b[38;5;28;43mglobals\u001b[39;49m\u001b[43m,\u001b[49m\u001b[43m \u001b[49m\u001b[38;5;28;43mlocals\u001b[39;49m\u001b[43m,\u001b[49m\u001b[43m \u001b[49m\u001b[43mfromlist\u001b[49m\u001b[43m,\u001b[49m\u001b[43m \u001b[49m\u001b[43mlevel_import\u001b[49m\u001b[43m)\u001b[49m\u001b[43m)\u001b[49m\n\u001b[0;32m     73\u001b[0m \u001b[38;5;28mself\u001b[39m\u001b[38;5;241m.\u001b[39mnewModules[name] \u001b[38;5;241m=\u001b[39m \u001b[38;5;241m1\u001b[39m\n\u001b[0;32m     74\u001b[0m \u001b[38;5;28;01mreturn\u001b[39;00m result\n",
      "\u001b[1;31mModuleNotFoundError\u001b[0m: No module named 'simulation_framework'"
     ]
    }
   ],
   "source": [
    "# Import necessary modules\n",
    "from simulation_framework import Simulation, CellTypePlugin, VolumePlugin, Steppable\n",
    "from cc3d.CompuCellSetup.CC3DCaller import CC3DSimService\n",
    "from cc3d.core.PySteppables import SteppableBasePy\n",
    "\n",
    "# Create a simulation object\n",
    "simulation = Simulation()\n",
    "\n",
    "# Define basic simulation parameters\n",
    "simulation.set_lattice_dimensions(100, 100, 1)  # Set lattice dimensions\n",
    "simulation.set_steps(1000)  # Set the number of simulation steps\n",
    "\n",
    "# Create and register a CellTypePlugin\n",
    "cell_type_plugin = CellTypePlugin(\"CellType\")\n",
    "cell_type_plugin.add_cell_type(\"Medium\", 0)\n",
    "cell_type_plugin.add_cell_type(\"Cell\", 1)\n",
    "simulation.register_plugin(cell_type_plugin)\n",
    "\n",
    "# Create and register a VolumePlugin\n",
    "volume_plugin = VolumePlugin(\"Volume\")\n",
    "volume_plugin.add_cell_type_parameter(\"Cell\", target_volume=25, lambda_volume=0.2)\n",
    "simulation.register_plugin(volume_plugin)\n",
    "\n",
    "# Define a custom steppable\n",
    "class CustomSteppable(Steppable):\n",
    "    def __init__(self, frequency=1):\n",
    "        super().__init__(frequency)\n",
    "        self.name = \"CustomSteppable\"\n",
    "\n",
    "    def step(self):\n",
    "        # Custom logic to execute at each step\n",
    "        print(f\"Executing step {self.current_step}\")\n",
    "\n",
    "# Create and register the custom steppable\n",
    "custom_steppable = CustomSteppable(frequency=10)\n",
    "simulation.register_steppable(custom_steppable)\n",
    "\n",
    "# Run the simulation\n",
    "simulation.run()\n",
    "\n",
    "# Optionally, visualize the simulation\n",
    "simulation.visualize()\n"
   ]
  },
  {
   "cell_type": "code",
   "execution_count": null,
   "id": "fcf9c0b0",
   "metadata": {},
   "outputs": [
    {
     "ename": "AttributeError",
     "evalue": "'PersistentGlobals' object has no attribute 'dim'",
     "output_type": "error",
     "traceback": [
      "\u001b[1;31m---------------------------------------------------------------------------\u001b[0m",
      "\u001b[1;31mAttributeError\u001b[0m                            Traceback (most recent call last)",
      "Cell \u001b[1;32mIn[52], line 9\u001b[0m\n\u001b[0;32m      6\u001b[0m sim, sim_path \u001b[38;5;241m=\u001b[39m CompuCellSetup\u001b[38;5;241m.\u001b[39mgetCoreSimulationObjects()\n\u001b[0;32m      8\u001b[0m \u001b[38;5;66;03m# Define basic simulation parameters using the persistent globals\u001b[39;00m\n\u001b[1;32m----> 9\u001b[0m \u001b[43mpg\u001b[49m\u001b[38;5;241;43m.\u001b[39;49m\u001b[43mdim\u001b[49m\u001b[38;5;241m.\u001b[39mx \u001b[38;5;241m=\u001b[39m \u001b[38;5;241m100\u001b[39m\n\u001b[0;32m     10\u001b[0m pg\u001b[38;5;241m.\u001b[39mdim\u001b[38;5;241m.\u001b[39my \u001b[38;5;241m=\u001b[39m \u001b[38;5;241m100\u001b[39m\n\u001b[0;32m     11\u001b[0m pg\u001b[38;5;241m.\u001b[39mdim\u001b[38;5;241m.\u001b[39mz \u001b[38;5;241m=\u001b[39m \u001b[38;5;241m1\u001b[39m\n",
      "\u001b[1;31mAttributeError\u001b[0m: 'PersistentGlobals' object has no attribute 'dim'"
     ]
    }
   ],
   "source": [
    "from cc3d import CompuCellSetup\n",
    "from cc3d.core import XMLUtils\n",
    "from cc3d.CompuCellSetup import persistent_globals as pg\n",
    "\n",
    "# Create a new simulation\n",
    "sim, sim_path = CompuCellSetup.getCoreSimulationObjects()\n",
    "\n",
    "# Define basic simulation parameters using the persistent globals\n",
    "pg.dim.x = 100\n",
    "pg.dim.y = 100\n",
    "pg.dim.z = 1\n",
    "pg.runSteps = 100\n",
    "\n",
    "# Define cell types\n",
    "cell_type_plugin = CompuCellSetup.getCellTypePlugin()\n",
    "cell_type_plugin.addCellType(\"Medium\")  # Background medium\n",
    "cell_type_plugin.addCellType(\"CellTypeA\")  # First cell type\n",
    "cell_type_plugin.addCellType(\"CellTypeB\")  # Second cell type\n",
    "\n",
    "# Define a Volume Plugin to give cells a target volume\n",
    "volume_plugin = CompuCellSetup.getVolumePlugin()\n",
    "volume_plugin.addCellType(\"CellTypeA\", target_volume=25, lambda_volume=0.2)\n",
    "volume_plugin.addCellType(\"CellTypeB\", target_volume=25, lambda_volume=0.2)\n",
    "\n",
    "# Define a custom steppable to add some cells at the beginning of the simulation\n",
    "class InitialCellPlacement(CompuCellSetup.SteppablePy):\n",
    "    def __init__(self, frequency=1):\n",
    "        CompuCellSetup.SteppablePy.__init__(self, frequency)\n",
    "\n",
    "    def start(self):\n",
    "        # Add a cluster of CellTypeA\n",
    "        cell = CompuCellSetup.getCellField().newCell(\"CellTypeA\")\n",
    "        self.cellField[50, 50, 0] = cell\n",
    "\n",
    "        # Add a cluster of CellTypeB\n",
    "        cell = CompuCellSetup.getCellField().newCell(\"CellTypeB\")\n",
    "        self.cellField[55, 55, 0] = cell\n",
    "\n",
    "# Register the custom steppable\n",
    "CompuCellSetup.registerSteppable(InitialCellPlacement(frequency=1))\n",
    "\n",
    "# Run the simulation\n",
    "CompuCellSetup.run()\n",
    "\n",
    "# Visualize the simulation\n",
    "CompuCellSetup.visualize()\n"
   ]
  },
  {
   "cell_type": "code",
   "execution_count": null,
   "id": "c81bd294",
   "metadata": {},
   "outputs": [
    {
     "name": "stderr",
     "output_type": "stream",
     "text": [
      "a:\\conda_envs\\cc3d_env\\lib\\site-packages\\cc3d\\core\\Configuration\\SettingUtils.py:248: UserWarning: Setting not set: PlayerSizes\n",
      "  warnings.warn(f'Setting not set: {_el.attrib[\"Name\"]}')\n",
      "a:\\conda_envs\\cc3d_env\\lib\\site-packages\\cc3d\\core\\Configuration\\SettingUtils.py:248: UserWarning: Setting not set: PlayerSizesFloating\n",
      "  warnings.warn(f'Setting not set: {_el.attrib[\"Name\"]}')\n",
      "a:\\conda_envs\\cc3d_env\\lib\\site-packages\\cc3d\\core\\Configuration\\SettingUtils.py:248: UserWarning: Setting not set: RecentSimulations\n",
      "  warnings.warn(f'Setting not set: {_el.attrib[\"Name\"]}')\n"
     ]
    },
    {
     "ename": "AttributeError",
     "evalue": "'PersistentGlobals' object has no attribute 'dim'",
     "output_type": "error",
     "traceback": [
      "\u001b[1;31m---------------------------------------------------------------------------\u001b[0m",
      "\u001b[1;31mAttributeError\u001b[0m                            Traceback (most recent call last)",
      "Cell \u001b[1;32mIn[5], line 9\u001b[0m\n\u001b[0;32m      6\u001b[0m cc3d_sim \u001b[38;5;241m=\u001b[39m CC3DSimService()\n\u001b[0;32m      8\u001b[0m \u001b[38;5;66;03m# Define basic simulation parameters using persistent globals\u001b[39;00m\n\u001b[1;32m----> 9\u001b[0m \u001b[43mCompuCellSetup\u001b[49m\u001b[38;5;241;43m.\u001b[39;49m\u001b[43mpersistent_globals\u001b[49m\u001b[38;5;241;43m.\u001b[39;49m\u001b[43mdim\u001b[49m\u001b[38;5;241m.\u001b[39mx \u001b[38;5;241m=\u001b[39m \u001b[38;5;241m100\u001b[39m\n\u001b[0;32m     10\u001b[0m CompuCellSetup\u001b[38;5;241m.\u001b[39mpersistent_globals\u001b[38;5;241m.\u001b[39mdim\u001b[38;5;241m.\u001b[39my \u001b[38;5;241m=\u001b[39m \u001b[38;5;241m100\u001b[39m\n\u001b[0;32m     11\u001b[0m CompuCellSetup\u001b[38;5;241m.\u001b[39mpersistent_globals\u001b[38;5;241m.\u001b[39mdim\u001b[38;5;241m.\u001b[39mz \u001b[38;5;241m=\u001b[39m \u001b[38;5;241m1\u001b[39m\n",
      "\u001b[1;31mAttributeError\u001b[0m: 'PersistentGlobals' object has no attribute 'dim'"
     ]
    }
   ],
   "source": [
    "from cc3d.CompuCellSetup.CC3DCaller import CC3DSimService\n",
    "from cc3d.CompuCellSetup import CompuCellSetup\n",
    "from IPython.display import display\n",
    "\n",
    "# Initialize the simulation service\n",
    "cc3d_sim = CC3DSimService()\n",
    "\n",
    "# Define basic simulation parameters using persistent globals\n",
    "CompuCellSetup.persistent_globals.dim.x = 100\n",
    "CompuCellSetup.persistent_globals.dim.y = 100\n",
    "CompuCellSetup.persistent_globals.dim.z = 1\n",
    "CompuCellSetup.persistent_globals.runSteps = 100\n",
    "\n",
    "# Define cell types\n",
    "cell_type_plugin = CompuCellSetup.getCellTypePlugin()\n",
    "cell_type_plugin.addCellType(\"Medium\")  # Background medium\n",
    "cell_type_plugin.addCellType(\"CellTypeA\")  # First cell type\n",
    "cell_type_plugin.addCellType(\"CellTypeB\")  # Second cell type\n",
    "\n",
    "# Define a Volume Plugin to give cells a target volume\n",
    "volume_plugin = CompuCellSetup.getVolumePlugin()\n",
    "volume_plugin.addCellType(\"CellTypeA\", target_volume=25, lambda_volume=0.2)\n",
    "volume_plugin.addCellType(\"CellTypeB\", target_volume=25, lambda_volume=0.2)\n",
    "\n",
    "# Define a custom steppable to add some cells at the beginning of the simulation\n",
    "class InitialCellPlacement(CompuCellSetup.SteppablePy):\n",
    "    def __init__(self, frequency=1):\n",
    "        CompuCellSetup.SteppablePy.__init__(self, frequency)\n",
    "\n",
    "    def start(self):\n",
    "        # Add a cluster of CellTypeA\n",
    "        cell = CompuCellSetup.getCellField().newCell(\"CellTypeA\")\n",
    "        self.cellField[50, 50, 0] = cell\n",
    "\n",
    "        # Add a cluster of CellTypeB\n",
    "        cell = CompuCellSetup.getCellField().newCell(\"CellTypeB\")\n",
    "        self.cellField[55, 55, 0] = cell\n",
    "\n",
    "# Register the custom steppable\n",
    "cc3d_sim.register_steppable(InitialCellPlacement(frequency=1))\n",
    "\n",
    "# Run the simulation\n",
    "cc3d_sim.run()\n",
    "\n",
    "# Visualize the simulation\n",
    "cc3d_sim.visualize()\n",
    "\n",
    "# Display a toggle button to pause/resume the simulation\n",
    "display(cc3d_sim.jupyter_run_button())\n"
   ]
  },
  {
   "cell_type": "code",
   "execution_count": null,
   "id": "fc787f0e",
   "metadata": {},
   "outputs": [],
   "source": []
  },
  {
   "cell_type": "code",
   "execution_count": null,
   "id": "870a7bc0",
   "metadata": {},
   "outputs": [],
   "source": []
  },
  {
   "cell_type": "code",
   "execution_count": null,
   "id": "cf92d9c5",
   "metadata": {},
   "outputs": [],
   "source": []
  }
 ],
 "metadata": {
  "kernelspec": {
   "display_name": "cc3d_env",
   "language": "python",
   "name": "python3"
  },
  "language_info": {
   "codemirror_mode": {
    "name": "ipython",
    "version": 3
   },
   "file_extension": ".py",
   "mimetype": "text/x-python",
   "name": "python",
   "nbconvert_exporter": "python",
   "pygments_lexer": "ipython3",
   "version": "3.10.14"
  }
 },
 "nbformat": 4,
 "nbformat_minor": 5
}
