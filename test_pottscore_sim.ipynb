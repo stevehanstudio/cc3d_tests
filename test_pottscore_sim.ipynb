{
 "cells": [
  {
   "cell_type": "code",
   "execution_count": 1,
   "id": "f5912285",
   "metadata": {},
   "outputs": [
    {
     "name": "stderr",
     "output_type": "stream",
     "text": [
      "/home/steve/miniconda3/envs/cc3d_env/lib/python3.10/site-packages/cc3d/core/Configuration/SettingUtils.py:248: UserWarning: Setting not set: PlayerSizes\n",
      "  warnings.warn(f'Setting not set: {_el.attrib[\"Name\"]}')\n",
      "/home/steve/miniconda3/envs/cc3d_env/lib/python3.10/site-packages/cc3d/core/Configuration/SettingUtils.py:248: UserWarning: Setting not set: PlayerSizesFloating\n",
      "  warnings.warn(f'Setting not set: {_el.attrib[\"Name\"]}')\n",
      "/home/steve/miniconda3/envs/cc3d_env/lib/python3.10/site-packages/cc3d/core/Configuration/SettingUtils.py:248: UserWarning: Setting not set: RecentSimulations\n",
      "  warnings.warn(f'Setting not set: {_el.attrib[\"Name\"]}')\n"
     ]
    }
   ],
   "source": [
    "from cc3d.CompuCellSetup.CC3DCaller import CC3DSimService\n",
    "from cc3d.core.PyCoreSpecs import PottsCore, CellTypePlugin, VolumePlugin, ContactPlugin, BlobInitializer\n",
    "from cc3d.core.PySteppables import SteppableBasePy"
   ]
  },
  {
   "cell_type": "code",
   "execution_count": 2,
   "id": "718ce3c3",
   "metadata": {},
   "outputs": [
    {
     "data": {
      "text/plain": [
       "<cc3d.core.PyCoreSpecs.BlobInitializerRegion at 0x77f30c1d38b0>"
      ]
     },
     "execution_count": 2,
     "metadata": {},
     "output_type": "execute_result"
    }
   ],
   "source": [
    "# Define the simulation lattice and neighborhood properties\n",
    "# PottsCore sets up the basic simulation lattice dimensions and neighborhood order\n",
    "potts_specs = PottsCore(dim_x=100, dim_y=100, neighbor_order=2)\n",
    "\n",
    "# Define cell types for the simulation\n",
    "# CellTypePlugin is used to specify different types of cells in the simulation\n",
    "cell_type_specs = CellTypePlugin(\"Condensing\", \"NonCondensing\")\n",
    "\n",
    "# Define volume constraints for both cell types\n",
    "# VolumePlugin sets the target volume and volume constraint strength for each cell type\n",
    "volume_specs = VolumePlugin()\n",
    "volume_specs.param_new(\"Condensing\", target_volume=25, lambda_volume=2)\n",
    "volume_specs.param_new(\"NonCondensing\", target_volume=25, lambda_volume=2)\n",
    "\n",
    "# Define adhesion (contact energy) between different cell types\n",
    "# ContactPlugin sets the energy parameters for interactions between different cell types\n",
    "contact_specs = ContactPlugin(neighbor_order=2)\n",
    "contact_specs.param_new(type_1=\"Medium\", type_2=\"Condensing\", energy=20)\n",
    "contact_specs.param_new(type_1=\"Medium\", type_2=\"NonCondensing\", energy=20)\n",
    "contact_specs.param_new(type_1=\"Condensing\", type_2=\"Condensing\", energy=2)\n",
    "contact_specs.param_new(type_1=\"Condensing\", type_2=\"NonCondensing\", energy=11)\n",
    "contact_specs.param_new(type_1=\"NonCondensing\", type_2=\"NonCondensing\", energy=16)\n",
    "\n",
    "# Initialize cells as a blob in the simulation space\n",
    "# BlobInitializer sets up initial cell positions and types\n",
    "blob_init_specs = BlobInitializer()\n",
    "blob_init_specs.region_new(width=5, radius=20, center=(50, 50, 0), cell_types=(\"Condensing\", \"NonCondensing\"))\n"
   ]
  },
  {
   "cell_type": "code",
   "execution_count": 3,
   "id": "7a4344b1",
   "metadata": {},
   "outputs": [],
   "source": [
    "# Define a custom steppable to implement cell growth logic\n",
    "class GrowthSteppable(SteppableBasePy):\n",
    "    def start(self):\n",
    "        # Set initial volume parameters for each cell\n",
    "        for cell in self.cell_list:\n",
    "            cell.targetVolume = 25\n",
    "            cell.lambdaVolume = 2\n",
    "\n",
    "    def step(self, mcs):\n",
    "        # Update target volume every 100 Monte Carlo Steps (MCS) to simulate growth\n",
    "        if mcs % 100 == 0:\n",
    "            for cell in self.cell_list:\n",
    "                cell.targetVolume += 1  # Simple growth model"
   ]
  },
  {
   "cell_type": "code",
   "execution_count": 4,
   "id": "9abf74d3",
   "metadata": {},
   "outputs": [],
   "source": [
    "# Create a simulation service instance\n",
    "cc3d_sim = CC3DSimService()\n",
    "\n",
    "# Register all the specifications with the simulation service\n",
    "cc3d_sim.register_specs([potts_specs, cell_type_specs, volume_specs, contact_specs, blob_init_specs])\n",
    "\n",
    "# Register the custom steppable with the simulation service\n",
    "cc3d_sim.register_steppable(steppable=GrowthSteppable, frequency=1)"
   ]
  },
  {
   "cell_type": "code",
   "execution_count": 5,
   "id": "123ab459",
   "metadata": {},
   "outputs": [
    {
     "name": "stderr",
     "output_type": "stream",
     "text": [
      "Random number generator: MersenneTwister\n"
     ]
    },
    {
     "name": "stdout",
     "output_type": "stream",
     "text": [
      "WILL RUN SIMULATION FROM BEGINNING\n"
     ]
    }
   ],
   "source": [
    "# Run the simulation\n",
    "cc3d_sim.run()\n",
    "\n",
    "# Initialize the simulation\n",
    "cc3d_sim.init()\n",
    "\n",
    "# Start the simulation\n",
    "cc3d_sim.start()\n",
    "\n",
    "# Define the number of steps to run the simulation\n",
    "num_steps = 1000\n",
    "\n",
    "# Run the simulation for the specified number of steps\n",
    "while cc3d_sim.current_step < num_steps:\n",
    "    cc3d_sim.step()"
   ]
  },
  {
   "cell_type": "code",
   "execution_count": 6,
   "id": "c4519903",
   "metadata": {},
   "outputs": [
    {
     "data": {
      "application/vnd.jupyter.widget-view+json": {
       "model_id": "cd6802be8d5b475aa23b19db46709e37",
       "version_major": 2,
       "version_minor": 0
      },
      "text/plain": [
       "IntSlider(value=1000, description='Number of Steps:', max=10000, min=100, step=100)"
      ]
     },
     "metadata": {},
     "output_type": "display_data"
    },
    {
     "data": {
      "application/vnd.jupyter.widget-view+json": {
       "model_id": "733503c487a24a67b4bd976ae2afcac8",
       "version_major": 2,
       "version_minor": 0
      },
      "text/plain": [
       "Dropdown(description='Cell Type:', options=('Condensing', 'NonCondensing'), value='Condensing')"
      ]
     },
     "metadata": {},
     "output_type": "display_data"
    },
    {
     "data": {
      "application/vnd.jupyter.widget-view+json": {
       "model_id": "4405ad9f593b40ce96d550a20bd5efa1",
       "version_major": 2,
       "version_minor": 0
      },
      "text/plain": [
       "IntSlider(value=25, description='Target Volume:', min=1)"
      ]
     },
     "metadata": {},
     "output_type": "display_data"
    },
    {
     "data": {
      "application/vnd.jupyter.widget-view+json": {
       "model_id": "a307eb6d5ed549058eceac533f801b8e",
       "version_major": 2,
       "version_minor": 0
      },
      "text/plain": [
       "FloatSlider(value=2.0, description='Lambda Volume:', max=10.0, min=0.1)"
      ]
     },
     "metadata": {},
     "output_type": "display_data"
    },
    {
     "data": {
      "application/vnd.jupyter.widget-view+json": {
       "model_id": "f8c1f321689842a1825658960b4e78a2",
       "version_major": 2,
       "version_minor": 0
      },
      "text/plain": [
       "IntSlider(value=16, description='Cell-Cell Energy:', max=30, min=1)"
      ]
     },
     "metadata": {},
     "output_type": "display_data"
    },
    {
     "name": "stderr",
     "output_type": "stream",
     "text": [
      "Random number generator: MersenneTwister\n"
     ]
    },
    {
     "name": "stdout",
     "output_type": "stream",
     "text": [
      "WILL RUN SIMULATION FROM BEGINNING\n"
     ]
    }
   ],
   "source": [
    "import ipywidgets as widgets\n",
    "from IPython.display import display\n",
    "from cc3d.CompuCellSetup.CC3DCaller import CC3DSimService\n",
    "from cc3d.core.PyCoreSpecs import PottsCore, CellTypePlugin, VolumePlugin, ContactPlugin, BlobInitializer\n",
    "from cc3d.core.PySteppables import SteppableBasePy\n",
    "\n",
    "# Create interactive widgets for user input\n",
    "num_steps_widget = widgets.IntSlider(value=1000, min=100, max=10000, step=100, description='Number of Steps:')\n",
    "cell_type_dropdown = widgets.Dropdown(options=['Condensing', 'NonCondensing'], value='Condensing', description='Cell Type:')\n",
    "target_volume_widget = widgets.IntSlider(value=25, min=1, max=100, step=1, description='Target Volume:')\n",
    "lambda_volume_widget = widgets.FloatSlider(value=2.0, min=0.1, max=10.0, step=0.1, description='Lambda Volume:')\n",
    "energy_widget = widgets.IntSlider(value=16, min=1, max=30, step=1, description='Cell-Cell Energy:')\n",
    "\n",
    "# Display the widgets\n",
    "display(num_steps_widget, cell_type_dropdown, target_volume_widget, lambda_volume_widget, energy_widget)\n",
    "\n",
    "# Define simulation lattice and neighborhood\n",
    "potts_specs = PottsCore(dim_x=100, dim_y=100, neighbor_order=2)\n",
    "\n",
    "# Define cell types\n",
    "cell_type_specs = CellTypePlugin(\"Condensing\", \"NonCondensing\")\n",
    "\n",
    "# Volume constraint for both cell types\n",
    "volume_specs = VolumePlugin()\n",
    "volume_specs.param_new(\"Condensing\", target_volume=target_volume_widget.value, lambda_volume=lambda_volume_widget.value)\n",
    "volume_specs.param_new(\"NonCondensing\", target_volume=target_volume_widget.value, lambda_volume=lambda_volume_widget.value)\n",
    "\n",
    "# Adhesion (contact energy) between types\n",
    "contact_specs = ContactPlugin(neighbor_order=2)\n",
    "contact_specs.param_new(type_1=\"Medium\", type_2=\"Condensing\", energy=20)\n",
    "contact_specs.param_new(type_1=\"Medium\", type_2=\"NonCondensing\", energy=20)\n",
    "contact_specs.param_new(type_1=\"Condensing\", type_2=\"Condensing\", energy=2)\n",
    "contact_specs.param_new(type_1=\"Condensing\", type_2=\"NonCondensing\", energy=11)\n",
    "contact_specs.param_new(type_1=\"NonCondensing\", type_2=\"NonCondensing\", energy=energy_widget.value)\n",
    "\n",
    "# Initialize cells as a blob\n",
    "blob_init_specs = BlobInitializer()\n",
    "blob_init_specs.region_new(width=5, radius=20, center=(50, 50, 0), cell_types=(\"Condensing\", \"NonCondensing\"))\n",
    "\n",
    "# Define a custom steppable to implement cell growth logic\n",
    "class GrowthSteppable(SteppableBasePy):\n",
    "    def start(self):\n",
    "        # Set initial volume parameters for each cell\n",
    "        for cell in self.cell_list:\n",
    "            cell.targetVolume = target_volume_widget.value\n",
    "            cell.lambdaVolume = lambda_volume_widget.value\n",
    "\n",
    "    def step(self, mcs):\n",
    "        # Update target volume every 100 Monte Carlo Steps (MCS) to simulate growth\n",
    "        if mcs % 100 == 0:\n",
    "            for cell in self.cell_list:\n",
    "                cell.targetVolume += 1  # Simple growth model\n",
    "\n",
    "# Create a simulation service instance\n",
    "cc3d_sim = CC3DSimService()\n",
    "\n",
    "# Register all the specifications with the simulation service\n",
    "cc3d_sim.register_specs([potts_specs, cell_type_specs, volume_specs, contact_specs, blob_init_specs])\n",
    "\n",
    "# Register the custom steppable with the simulation service\n",
    "cc3d_sim.register_steppable(steppable=GrowthSteppable, frequency=1)\n",
    "\n",
    "# Run the simulation\n",
    "cc3d_sim.run()\n",
    "cc3d_sim.init()\n",
    "cc3d_sim.start()\n",
    "\n",
    "# Run the simulation for the specified number of steps\n",
    "while cc3d_sim.current_step < num_steps_widget.value:\n",
    "    cc3d_sim.step()\n"
   ]
  },
  {
   "cell_type": "code",
   "execution_count": null,
   "id": "d7a9d8d4",
   "metadata": {},
   "outputs": [],
   "source": []
  }
 ],
 "metadata": {
  "kernelspec": {
   "display_name": "cc3d_env",
   "language": "python",
   "name": "python3"
  },
  "language_info": {
   "codemirror_mode": {
    "name": "ipython",
    "version": 3
   },
   "file_extension": ".py",
   "mimetype": "text/x-python",
   "name": "python",
   "nbconvert_exporter": "python",
   "pygments_lexer": "ipython3",
   "version": "3.10.14"
  }
 },
 "nbformat": 4,
 "nbformat_minor": 5
}
